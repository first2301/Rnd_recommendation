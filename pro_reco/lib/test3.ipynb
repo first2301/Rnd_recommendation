{
 "cells": [
  {
   "cell_type": "code",
   "execution_count": 2,
   "metadata": {},
   "outputs": [],
   "source": [
    "import json\n",
    "import pickle\n",
    "from io import StringIO\n",
    "from prepro import *"
   ]
  },
  {
   "cell_type": "code",
   "execution_count": 3,
   "metadata": {},
   "outputs": [
    {
     "name": "stderr",
     "output_type": "stream",
     "text": [
      "c:\\Users\\PCN\\anaconda3\\envs\\dev1\\lib\\site-packages\\tqdm\\auto.py:21: TqdmWarning: IProgress not found. Please update jupyter and ipywidgets. See https://ipywidgets.readthedocs.io/en/stable/user_install.html\n",
      "  from .autonotebook import tqdm as notebook_tqdm\n"
     ]
    }
   ],
   "source": [
    "with open('./test_data.pickle', 'rb') as r:\n",
    "    data = pickle.load(r)"
   ]
  },
  {
   "cell_type": "code",
   "execution_count": 4,
   "metadata": {},
   "outputs": [],
   "source": [
    "prepro = Preprocessing()"
   ]
  },
  {
   "cell_type": "code",
   "execution_count": 17,
   "metadata": {},
   "outputs": [
    {
     "data": {
      "text/html": [
       "<div>\n",
       "<style scoped>\n",
       "    .dataframe tbody tr th:only-of-type {\n",
       "        vertical-align: middle;\n",
       "    }\n",
       "\n",
       "    .dataframe tbody tr th {\n",
       "        vertical-align: top;\n",
       "    }\n",
       "\n",
       "    .dataframe thead th {\n",
       "        text-align: right;\n",
       "    }\n",
       "</style>\n",
       "<table border=\"1\" class=\"dataframe\">\n",
       "  <thead>\n",
       "    <tr style=\"text-align: right;\">\n",
       "      <th></th>\n",
       "      <th>number</th>\n",
       "      <th>value</th>\n",
       "      <th>datetime_start</th>\n",
       "      <th>datetime_complete</th>\n",
       "      <th>max_depth</th>\n",
       "      <th>n_estimator</th>\n",
       "    </tr>\n",
       "  </thead>\n",
       "  <tbody>\n",
       "    <tr>\n",
       "      <th>0</th>\n",
       "      <td>4</td>\n",
       "      <td>0.582431</td>\n",
       "      <td>2024-05-31 14:07:30.861680</td>\n",
       "      <td>2024-05-31 14:07:31.096988</td>\n",
       "      <td>11</td>\n",
       "      <td>14</td>\n",
       "    </tr>\n",
       "  </tbody>\n",
       "</table>\n",
       "</div>"
      ],
      "text/plain": [
       "   number     value             datetime_start          datetime_complete  \\\n",
       "0       4  0.582431 2024-05-31 14:07:30.861680 2024-05-31 14:07:31.096988   \n",
       "\n",
       "   max_depth  n_estimator  \n",
       "0         11           14  "
      ]
     },
     "execution_count": 17,
     "metadata": {},
     "output_type": "execute_result"
    }
   ],
   "source": [
    "prepro.is_best_trial_df(data[0]['best_trial'])"
   ]
  },
  {
   "cell_type": "code",
   "execution_count": 16,
   "metadata": {},
   "outputs": [
    {
     "data": {
      "text/plain": [
       "FrozenTrial(number=4, state=TrialState.COMPLETE, values=[0.5824307643614497], datetime_start=datetime.datetime(2024, 5, 31, 14, 7, 30, 861680), datetime_complete=datetime.datetime(2024, 5, 31, 14, 7, 31, 96988), params={'max_depth': 11, 'n_estimator': 14}, user_attrs={}, system_attrs={}, intermediate_values={}, distributions={'max_depth': IntDistribution(high=16, log=False, low=6, step=1), 'n_estimator': IntDistribution(high=15, log=False, low=10, step=1)}, trial_id=4, value=None)"
      ]
     },
     "execution_count": 16,
     "metadata": {},
     "output_type": "execute_result"
    }
   ],
   "source": [
    "data[0]['best_trial']"
   ]
  },
  {
   "cell_type": "code",
   "execution_count": 15,
   "metadata": {},
   "outputs": [
    {
     "ename": "TypeError",
     "evalue": "'FrozenTrial' object is not subscriptable",
     "output_type": "error",
     "traceback": [
      "\u001b[1;31m---------------------------------------------------------------------------\u001b[0m",
      "\u001b[1;31mTypeError\u001b[0m                                 Traceback (most recent call last)",
      "Cell \u001b[1;32mIn[15], line 1\u001b[0m\n\u001b[1;32m----> 1\u001b[0m \u001b[43mprepro\u001b[49m\u001b[38;5;241;43m.\u001b[39;49m\u001b[43mmake_dataframe\u001b[49m\u001b[43m(\u001b[49m\u001b[43mdata\u001b[49m\u001b[43m[\u001b[49m\u001b[38;5;241;43m0\u001b[39;49m\u001b[43m]\u001b[49m\u001b[43m[\u001b[49m\u001b[38;5;124;43m'\u001b[39;49m\u001b[38;5;124;43mbest_trial\u001b[39;49m\u001b[38;5;124;43m'\u001b[39;49m\u001b[43m]\u001b[49m\u001b[43m)\u001b[49m\n",
      "File \u001b[1;32mf:\\industry\\git_reco\\pro_reco\\lib\\prepro.py:70\u001b[0m, in \u001b[0;36mPreprocessing.make_dataframe\u001b[1;34m(self, result)\u001b[0m\n\u001b[0;32m     67\u001b[0m model_list \u001b[38;5;241m=\u001b[39m [\u001b[38;5;124m'\u001b[39m\u001b[38;5;124mrandomforest\u001b[39m\u001b[38;5;124m'\u001b[39m, \u001b[38;5;124m'\u001b[39m\u001b[38;5;124mgradient\u001b[39m\u001b[38;5;124m'\u001b[39m, \u001b[38;5;124m'\u001b[39m\u001b[38;5;124mxgboost\u001b[39m\u001b[38;5;124m'\u001b[39m, \u001b[38;5;124m'\u001b[39m\u001b[38;5;124mcatboost\u001b[39m\u001b[38;5;124m'\u001b[39m, \u001b[38;5;124m'\u001b[39m\u001b[38;5;124madaboost\u001b[39m\u001b[38;5;124m'\u001b[39m, \u001b[38;5;124m'\u001b[39m\u001b[38;5;124mknn\u001b[39m\u001b[38;5;124m'\u001b[39m, \u001b[38;5;124m'\u001b[39m\u001b[38;5;124mgaussian\u001b[39m\u001b[38;5;124m'\u001b[39m]\n\u001b[0;32m     69\u001b[0m \u001b[38;5;28;01mfor\u001b[39;00m n \u001b[38;5;129;01min\u001b[39;00m model_list:\n\u001b[1;32m---> 70\u001b[0m     best_df \u001b[38;5;241m=\u001b[39m pd\u001b[38;5;241m.\u001b[39mconcat([best_df, \u001b[38;5;28mself\u001b[39m\u001b[38;5;241m.\u001b[39mis_best_trial_df(\u001b[43mresult\u001b[49m\u001b[43m[\u001b[49m\u001b[43mn\u001b[49m\u001b[43m]\u001b[49m[\u001b[38;5;124m'\u001b[39m\u001b[38;5;124mbest_trial\u001b[39m\u001b[38;5;124m'\u001b[39m])])\n\u001b[0;32m     72\u001b[0m \u001b[38;5;28;01mreturn\u001b[39;00m best_df\n",
      "\u001b[1;31mTypeError\u001b[0m: 'FrozenTrial' object is not subscriptable"
     ]
    }
   ],
   "source": [
    "prepro.make_dataframe(data[0]['best_trial'])"
   ]
  },
  {
   "cell_type": "code",
   "execution_count": 11,
   "metadata": {},
   "outputs": [
    {
     "data": {
      "text/plain": [
       "FrozenTrial(number=4, state=TrialState.COMPLETE, values=[0.5824307643614497], datetime_start=datetime.datetime(2024, 5, 31, 14, 7, 30, 861680), datetime_complete=datetime.datetime(2024, 5, 31, 14, 7, 31, 96988), params={'max_depth': 11, 'n_estimator': 14}, user_attrs={}, system_attrs={}, intermediate_values={}, distributions={'max_depth': IntDistribution(high=16, log=False, low=6, step=1), 'n_estimator': IntDistribution(high=15, log=False, low=10, step=1)}, trial_id=4, value=None)"
      ]
     },
     "execution_count": 11,
     "metadata": {},
     "output_type": "execute_result"
    }
   ],
   "source": [
    "data[0]['best_trial']"
   ]
  },
  {
   "cell_type": "code",
   "execution_count": 13,
   "metadata": {},
   "outputs": [
    {
     "ename": "KeyError",
     "evalue": "'randomforest'",
     "output_type": "error",
     "traceback": [
      "\u001b[1;31m---------------------------------------------------------------------------\u001b[0m",
      "\u001b[1;31mKeyError\u001b[0m                                  Traceback (most recent call last)",
      "Cell \u001b[1;32mIn[13], line 1\u001b[0m\n\u001b[1;32m----> 1\u001b[0m test \u001b[38;5;241m=\u001b[39m \u001b[43mprepro\u001b[49m\u001b[38;5;241;43m.\u001b[39;49m\u001b[43mmake_dict\u001b[49m\u001b[43m(\u001b[49m\u001b[43mdata\u001b[49m\u001b[43m)\u001b[49m\n",
      "File \u001b[1;32mf:\\industry\\git_reco\\pro_reco\\lib\\prepro.py:56\u001b[0m, in \u001b[0;36mPreprocessing.make_dict\u001b[1;34m(self, result)\u001b[0m\n\u001b[0;32m     53\u001b[0m model_list \u001b[38;5;241m=\u001b[39m [\u001b[38;5;124m'\u001b[39m\u001b[38;5;124mrandomforest\u001b[39m\u001b[38;5;124m'\u001b[39m, \u001b[38;5;124m'\u001b[39m\u001b[38;5;124mgradient\u001b[39m\u001b[38;5;124m'\u001b[39m, \u001b[38;5;124m'\u001b[39m\u001b[38;5;124mxgboost\u001b[39m\u001b[38;5;124m'\u001b[39m, \u001b[38;5;124m'\u001b[39m\u001b[38;5;124mcatboost\u001b[39m\u001b[38;5;124m'\u001b[39m, \u001b[38;5;124m'\u001b[39m\u001b[38;5;124madaboost\u001b[39m\u001b[38;5;124m'\u001b[39m, \u001b[38;5;124m'\u001b[39m\u001b[38;5;124mknn\u001b[39m\u001b[38;5;124m'\u001b[39m, \u001b[38;5;124m'\u001b[39m\u001b[38;5;124mgaussian\u001b[39m\u001b[38;5;124m'\u001b[39m]\n\u001b[0;32m     55\u001b[0m \u001b[38;5;28;01mfor\u001b[39;00m n \u001b[38;5;129;01min\u001b[39;00m model_list:\n\u001b[1;32m---> 56\u001b[0m     best_df[n] \u001b[38;5;241m=\u001b[39m \u001b[38;5;28mself\u001b[39m\u001b[38;5;241m.\u001b[39mis_best_trial_df(\u001b[43mresult\u001b[49m\u001b[43m[\u001b[49m\u001b[43mn\u001b[49m\u001b[43m]\u001b[49m[\u001b[38;5;124m'\u001b[39m\u001b[38;5;124mbest_trial\u001b[39m\u001b[38;5;124m'\u001b[39m])\u001b[38;5;241m.\u001b[39mto_json()\n\u001b[0;32m     57\u001b[0m     trial_df[n] \u001b[38;5;241m=\u001b[39m \u001b[38;5;28mself\u001b[39m\u001b[38;5;241m.\u001b[39mis_all_trials_df(result[n][\u001b[38;5;124m'\u001b[39m\u001b[38;5;124mtrials\u001b[39m\u001b[38;5;124m'\u001b[39m])\u001b[38;5;241m.\u001b[39mto_json()\n\u001b[0;32m     59\u001b[0m \u001b[38;5;66;03m# for n in range(0, len(result)):\u001b[39;00m\n\u001b[0;32m     60\u001b[0m \u001b[38;5;66;03m#     best_df[n] = self.is_best_trial_df(result[n]['best_trial']).to_json()\u001b[39;00m\n\u001b[0;32m     61\u001b[0m \u001b[38;5;66;03m#     trial_df[n] = self.is_all_trials_df(result[n]['trials']).to_json()\u001b[39;00m\n",
      "\u001b[1;31mKeyError\u001b[0m: 'randomforest'"
     ]
    }
   ],
   "source": [
    "test = prepro.make_dict(data)"
   ]
  },
  {
   "cell_type": "code",
   "execution_count": 6,
   "metadata": {},
   "outputs": [
    {
     "ename": "NameError",
     "evalue": "name 'test' is not defined",
     "output_type": "error",
     "traceback": [
      "\u001b[1;31m---------------------------------------------------------------------------\u001b[0m",
      "\u001b[1;31mNameError\u001b[0m                                 Traceback (most recent call last)",
      "Cell \u001b[1;32mIn[6], line 1\u001b[0m\n\u001b[1;32m----> 1\u001b[0m \u001b[43mtest\u001b[49m[\u001b[38;5;124m'\u001b[39m\u001b[38;5;124mbest_df\u001b[39m\u001b[38;5;124m'\u001b[39m]\n",
      "\u001b[1;31mNameError\u001b[0m: name 'test' is not defined"
     ]
    }
   ],
   "source": [
    "test['best_df']"
   ]
  },
  {
   "cell_type": "code",
   "execution_count": 34,
   "metadata": {},
   "outputs": [],
   "source": [
    "data_dict = json.loads(test['best_df'][0])"
   ]
  },
  {
   "cell_type": "code",
   "execution_count": 35,
   "metadata": {},
   "outputs": [
    {
     "data": {
      "text/plain": [
       "{'number': {'0': 4},\n",
       " 'value': {'0': 0.5824307644},\n",
       " 'datetime_start': {'0': 1717164450861},\n",
       " 'datetime_complete': {'0': 1717164451096},\n",
       " 'max_depth': {'0': 11},\n",
       " 'n_estimator': {'0': 14}}"
      ]
     },
     "execution_count": 35,
     "metadata": {},
     "output_type": "execute_result"
    }
   ],
   "source": [
    "data_dict"
   ]
  },
  {
   "cell_type": "code",
   "execution_count": 36,
   "metadata": {},
   "outputs": [
    {
     "data": {
      "text/html": [
       "<div>\n",
       "<style scoped>\n",
       "    .dataframe tbody tr th:only-of-type {\n",
       "        vertical-align: middle;\n",
       "    }\n",
       "\n",
       "    .dataframe tbody tr th {\n",
       "        vertical-align: top;\n",
       "    }\n",
       "\n",
       "    .dataframe thead th {\n",
       "        text-align: right;\n",
       "    }\n",
       "</style>\n",
       "<table border=\"1\" class=\"dataframe\">\n",
       "  <thead>\n",
       "    <tr style=\"text-align: right;\">\n",
       "      <th></th>\n",
       "      <th>number</th>\n",
       "      <th>value</th>\n",
       "      <th>datetime_start</th>\n",
       "      <th>datetime_complete</th>\n",
       "      <th>max_depth</th>\n",
       "      <th>n_estimator</th>\n",
       "    </tr>\n",
       "  </thead>\n",
       "  <tbody>\n",
       "    <tr>\n",
       "      <th>0</th>\n",
       "      <td>4</td>\n",
       "      <td>0.582431</td>\n",
       "      <td>1717164450861</td>\n",
       "      <td>1717164451096</td>\n",
       "      <td>11</td>\n",
       "      <td>14</td>\n",
       "    </tr>\n",
       "  </tbody>\n",
       "</table>\n",
       "</div>"
      ],
      "text/plain": [
       "   number     value  datetime_start  datetime_complete  max_depth  n_estimator\n",
       "0       4  0.582431   1717164450861      1717164451096         11           14"
      ]
     },
     "execution_count": 36,
     "metadata": {},
     "output_type": "execute_result"
    }
   ],
   "source": [
    "pd.DataFrame(data_dict)"
   ]
  },
  {
   "cell_type": "code",
   "execution_count": null,
   "metadata": {},
   "outputs": [],
   "source": [
    "def make_dataframe(self, result):\n",
    "    trial_df = pd.DataFrame()\n",
    "    best_df = pd.DataFrame()\n",
    "    model_list = ['randomforest', 'gradient', 'xgboost', 'catboost', 'adaboost', 'knn', 'gaussian']\n",
    "    \n",
    "    for n in model_list:\n",
    "        best_df = pd.concat([best_df, self.is_best_trial_df(result[n]['best_trial'])])\n",
    "        trial_df[n] = self.is_all_trials_df(result[n]['trials'])\n",
    "\n",
    "    return {'best_df': best_df, 'trial_df': trial_df}"
   ]
  },
  {
   "cell_type": "code",
   "execution_count": 19,
   "metadata": {},
   "outputs": [
    {
     "name": "stdout",
     "output_type": "stream",
     "text": [
      "randomforest\n",
      "gradient\n",
      "xgboost\n",
      "catboost\n",
      "adaboost\n",
      "knn\n",
      "gaussian\n"
     ]
    }
   ],
   "source": [
    "model_list = ['randomforest', 'gradient', 'xgboost', 'catboost', 'adaboost', 'knn', 'gaussian']\n",
    "test_data = dict()\n",
    "for i in model_list:\n",
    "    print(i)"
   ]
  },
  {
   "cell_type": "code",
   "execution_count": 22,
   "metadata": {},
   "outputs": [
    {
     "data": {
      "text/plain": [
       "{'best_df': {0: '{\"number\":{\"0\":4},\"value\":{\"0\":0.5824307644},\"datetime_start\":{\"0\":1717164450861},\"datetime_complete\":{\"0\":1717164451096},\"max_depth\":{\"0\":11},\"n_estimator\":{\"0\":14}}',\n",
       "  1: '{\"number\":{\"0\":7},\"value\":{\"0\":0.5863633486},\"datetime_start\":{\"0\":1717164460161},\"datetime_complete\":{\"0\":1717164461761},\"max_depth\":{\"0\":15},\"n_estimator\":{\"0\":15}}',\n",
       "  2: '{\"number\":{\"0\":3},\"value\":{\"0\":0.6032568444},\"datetime_start\":{\"0\":1717164464911},\"datetime_complete\":{\"0\":1717164465011},\"max_depth\":{\"0\":7},\"n_estimator\":{\"0\":12}}',\n",
       "  3: '{\"number\":{\"0\":8},\"value\":{\"0\":0.5897373002},\"datetime_start\":{\"0\":1717164610448},\"datetime_complete\":{\"0\":1717164610895},\"max_depth\":{\"0\":8},\"n_estimator\":{\"0\":15}}',\n",
       "  4: '{\"number\":{\"0\":0},\"value\":{\"0\":0.5616205096},\"datetime_start\":{\"0\":1717164673900},\"datetime_complete\":{\"0\":1717164674097},\"n_estimators\":{\"0\":11.0},\"learning_rate\":{\"0\":0.0615133469}}',\n",
       "  5: '{\"number\":{\"0\":5},\"value\":{\"0\":0.5481136256},\"datetime_start\":{\"0\":1717164676001},\"datetime_complete\":{\"0\":1717164676070},\"n_neighbors\":{\"0\":6}}',\n",
       "  6: '{\"number\":{\"0\":0},\"value\":{\"0\":0.5014021206},\"datetime_start\":{\"0\":1717164676315},\"datetime_complete\":{\"0\":1717164676328},\"var_smoothing\":{\"0\":0}}'},\n",
       " 'trial_df': {0: '{\"number\":{\"0\":0,\"1\":1,\"2\":2,\"3\":3,\"4\":4,\"5\":5,\"6\":6,\"7\":7,\"8\":8,\"9\":9},\"value\":{\"0\":0.5509131192,\"1\":0.5610381389,\"2\":0.5599097959,\"3\":0.5751004906,\"4\":0.5824307644,\"5\":0.5677812945,\"6\":0.576220921,\"7\":0.5632774173,\"8\":0.5689064725,\"9\":0.5756891913},\"datetime_start\":{\"0\":1717164450006,\"1\":1717164450180,\"2\":1717164450344,\"3\":1717164450579,\"4\":1717164450861,\"5\":1717164451096,\"6\":1717164451296,\"7\":1717164451523,\"8\":1717164451710,\"9\":1717164451883},\"datetime_complete\":{\"0\":1717164450179,\"1\":1717164450344,\"2\":1717164450579,\"3\":1717164450847,\"4\":1717164451096,\"5\":1717164451296,\"6\":1717164451523,\"7\":1717164451710,\"8\":1717164451883,\"9\":1717164452083},\"max_depth\":{\"0\":6,\"1\":7,\"2\":9,\"3\":14,\"4\":11,\"5\":7,\"6\":11,\"7\":7,\"8\":7,\"9\":8},\"n_estimator\":{\"0\":12,\"1\":11,\"2\":14,\"3\":14,\"4\":14,\"5\":13,\"6\":12,\"7\":14,\"8\":12,\"9\":13}}',\n",
       "  1: '{\"number\":{\"0\":0,\"1\":1,\"2\":2,\"3\":3,\"4\":4,\"5\":5,\"6\":6,\"7\":7,\"8\":8,\"9\":9},\"value\":{\"0\":0.5812802659,\"1\":0.5813008387,\"2\":0.5784823548,\"3\":0.5807232157,\"4\":0.5818594714,\"5\":0.5734325051,\"6\":0.5706076911,\"7\":0.5863633486,\"8\":0.5728627947,\"9\":0.578495015},\"datetime_start\":{\"0\":1717164452083,\"1\":1717164453594,\"2\":1717164455127,\"3\":1717164456144,\"4\":1717164457394,\"5\":1717164458744,\"6\":1717164459661,\"7\":1717164460161,\"8\":1717164461761,\"9\":1717164462845},\"datetime_complete\":{\"0\":1717164453594,\"1\":1717164455127,\"2\":1717164456144,\"3\":1717164457394,\"4\":1717164458744,\"5\":1717164459661,\"6\":1717164460161,\"7\":1717164461761,\"8\":1717164462845,\"9\":1717164464295},\"max_depth\":{\"0\":13,\"1\":15,\"2\":15,\"3\":13,\"4\":14,\"5\":8,\"6\":7,\"7\":15,\"8\":10,\"9\":16},\"n_estimator\":{\"0\":15,\"1\":14,\"2\":10,\"3\":13,\"4\":13,\"5\":15,\"6\":10,\"7\":15,\"8\":14,\"9\":13}}',\n",
       "  2: '{\"number\":{\"0\":0,\"1\":1,\"2\":2,\"3\":3,\"4\":4,\"5\":5,\"6\":6,\"7\":7,\"8\":8,\"9\":9},\"value\":{\"0\":0.6032426017,\"1\":0.5953663554,\"2\":0.5841177401,\"3\":0.6032568444,\"4\":0.5874916917,\"5\":0.5942538376,\"6\":0.6021031809,\"7\":0.5863633486,\"8\":0.5897499604,\"9\":0.5919829087},\"datetime_start\":{\"0\":1717164464295,\"1\":1717164464511,\"2\":1717164464677,\"3\":1717164464911,\"4\":1717164465011,\"5\":1717164465161,\"6\":1717164465377,\"7\":1717164465638,\"8\":1717164465777,\"9\":1717164465976},\"datetime_complete\":{\"0\":1717164464511,\"1\":1717164464677,\"2\":1717164464911,\"3\":1717164465011,\"4\":1717164465161,\"5\":1717164465377,\"6\":1717164465637,\"7\":1717164465777,\"8\":1717164465961,\"9\":1717164466244},\"max_depth\":{\"0\":13,\"1\":10,\"2\":11,\"3\":7,\"4\":8,\"5\":13,\"6\":14,\"7\":10,\"8\":11,\"9\":16},\"n_estimator\":{\"0\":11,\"1\":14,\"2\":14,\"3\":12,\"4\":11,\"5\":15,\"6\":15,\"7\":11,\"8\":13,\"9\":11}}',\n",
       "  3: '{\"number\":{\"0\":0,\"1\":1,\"2\":2,\"3\":3,\"4\":4,\"5\":5,\"6\":6,\"7\":7,\"8\":8,\"9\":9},\"value\":{\"0\":0.5852413357,\"1\":0.5841145751,\"2\":0.5705950309,\"3\":0.5441493907,\"4\":0.5480772274,\"5\":0.5458284539,\"6\":0.5869441367,\"7\":0.5762161734,\"8\":0.5897373002,\"9\":0.5464013293},\"datetime_start\":{\"0\":1717164466244,\"1\":1717164468478,\"2\":1717164468843,\"3\":1717164469328,\"4\":1717164520648,\"5\":1717164554145,\"6\":1717164592329,\"7\":1717164592690,\"8\":1717164610448,\"9\":1717164610895},\"datetime_complete\":{\"0\":1717164468478,\"1\":1717164468828,\"2\":1717164469328,\"3\":1717164520648,\"4\":1717164554145,\"5\":1717164592329,\"6\":1717164592690,\"7\":1717164610447,\"8\":1717164610895,\"9\":1717164673897},\"max_depth\":{\"0\":11,\"1\":8,\"2\":9,\"3\":16,\"4\":15,\"5\":15,\"6\":8,\"7\":14,\"8\":8,\"9\":16},\"n_estimator\":{\"0\":13,\"1\":13,\"2\":12,\"3\":10,\"4\":12,\"5\":14,\"6\":10,\"7\":13,\"8\":15,\"9\":11}}',\n",
       "  4: '{\"number\":{\"0\":0,\"1\":1,\"2\":2,\"3\":3,\"4\":4,\"5\":5,\"6\":6,\"7\":7,\"8\":8,\"9\":9},\"value\":{\"0\":0.5616205096,\"1\":0.5616205096,\"2\":0.5616205096,\"3\":0.5616205096,\"4\":0.5616205096,\"5\":0.5616205096,\"6\":0.5554233265,\"7\":0.5616205096,\"8\":0.5554233265,\"9\":0.5616205096},\"datetime_start\":{\"0\":1717164673900,\"1\":1717164674097,\"2\":1717164674311,\"3\":1717164674527,\"4\":1717164674682,\"5\":1717164674866,\"6\":1717164675028,\"7\":1717164675192,\"8\":1717164675345,\"9\":1717164675498},\"datetime_complete\":{\"0\":1717164674097,\"1\":1717164674311,\"2\":1717164674511,\"3\":1717164674682,\"4\":1717164674866,\"5\":1717164675028,\"6\":1717164675192,\"7\":1717164675345,\"8\":1717164675498,\"9\":1717164675698},\"n_estimators\":{\"0\":11.0,\"1\":15.0,\"2\":13.0,\"3\":11.0,\"4\":14.0,\"5\":12.0,\"6\":11.0,\"7\":12.0,\"8\":11.0,\"9\":15.0},\"learning_rate\":{\"0\":0.0615133469,\"1\":0.2739208675,\"2\":0.3196777291,\"3\":0.4084157523,\"4\":0.5561689742,\"5\":0.7708557483,\"6\":0.8455793486,\"7\":0.5458085675,\"8\":0.844879059,\"9\":0.1860672199}}',\n",
       "  5: '{\"number\":{\"0\":0,\"1\":1,\"2\":2,\"3\":3,\"4\":4,\"5\":5,\"6\":6,\"7\":7,\"8\":8,\"9\":9},\"value\":{\"0\":0.5120936857,\"1\":0.5120936857,\"2\":0.5436034183,\"3\":0.5351637917,\"4\":0.5351637917,\"5\":0.5481136256,\"6\":0.5351622092,\"7\":0.5306678272,\"8\":0.5436034183,\"9\":0.5351637917},\"datetime_start\":{\"0\":1717164675698,\"1\":1717164675752,\"2\":1717164675826,\"3\":1717164675886,\"4\":1717164675936,\"5\":1717164676001,\"6\":1717164676071,\"7\":1717164676132,\"8\":1717164676193,\"9\":1717164676252},\"datetime_complete\":{\"0\":1717164675752,\"1\":1717164675825,\"2\":1717164675886,\"3\":1717164675936,\"4\":1717164676001,\"5\":1717164676070,\"6\":1717164676131,\"7\":1717164676193,\"8\":1717164676252,\"9\":1717164676304},\"n_neighbors\":{\"0\":5,\"1\":5,\"2\":8,\"3\":9,\"4\":9,\"5\":6,\"6\":10,\"7\":7,\"8\":8,\"9\":9}}',\n",
       "  6: '{\"number\":{\"0\":0,\"1\":1,\"2\":2,\"3\":3,\"4\":4,\"5\":5,\"6\":6,\"7\":7,\"8\":8,\"9\":9},\"value\":{\"0\":0.5014021206,\"1\":0.5014021206,\"2\":0.5014021206,\"3\":0.5014021206,\"4\":0.5014021206,\"5\":0.5014021206,\"6\":0.5014021206,\"7\":0.5014021206,\"8\":0.5014021206,\"9\":0.5014021206},\"datetime_start\":{\"0\":1717164676315,\"1\":1717164676329,\"2\":1717164676334,\"3\":1717164676351,\"4\":1717164676372,\"5\":1717164676400,\"6\":1717164676419,\"7\":1717164676437,\"8\":1717164676455,\"9\":1717164676472},\"datetime_complete\":{\"0\":1717164676328,\"1\":1717164676334,\"2\":1717164676351,\"3\":1717164676372,\"4\":1717164676399,\"5\":1717164676418,\"6\":1717164676437,\"7\":1717164676455,\"8\":1717164676472,\"9\":1717164676493},\"var_smoothing\":{\"0\":0,\"1\":0,\"2\":0,\"3\":0,\"4\":0,\"5\":0,\"6\":0,\"7\":0,\"8\":0,\"9\":0}}'}}"
      ]
     },
     "execution_count": 22,
     "metadata": {},
     "output_type": "execute_result"
    }
   ],
   "source": [
    "test"
   ]
  },
  {
   "cell_type": "code",
   "execution_count": 20,
   "metadata": {},
   "outputs": [],
   "source": [
    "model_list = ['randomforest', 'gradient', 'xgboost', 'catboost', 'adaboost', 'knn', 'gaussian']\n",
    "test_data = dict()\n",
    "for idx, name in enumerate(model_list):\n",
    "    test_data = {name: test['best_df'][idx]}"
   ]
  },
  {
   "cell_type": "code",
   "execution_count": 27,
   "metadata": {},
   "outputs": [
    {
     "data": {
      "text/plain": [
       "'{\"number\":{\"0\":4},\"value\":{\"0\":0.5824307644},\"datetime_start\":{\"0\":1717164450861},\"datetime_complete\":{\"0\":1717164451096},\"max_depth\":{\"0\":11},\"n_estimator\":{\"0\":14}}'"
      ]
     },
     "execution_count": 27,
     "metadata": {},
     "output_type": "execute_result"
    }
   ],
   "source": [
    "test['best_df'][0]"
   ]
  },
  {
   "cell_type": "code",
   "execution_count": 29,
   "metadata": {},
   "outputs": [
    {
     "ename": "ValueError",
     "evalue": "DataFrame constructor not properly called!",
     "output_type": "error",
     "traceback": [
      "\u001b[1;31m---------------------------------------------------------------------------\u001b[0m",
      "\u001b[1;31mValueError\u001b[0m                                Traceback (most recent call last)",
      "Cell \u001b[1;32mIn[29], line 1\u001b[0m\n\u001b[1;32m----> 1\u001b[0m \u001b[43mpd\u001b[49m\u001b[38;5;241;43m.\u001b[39;49m\u001b[43mDataFrame\u001b[49m\u001b[43m(\u001b[49m\u001b[43mtest\u001b[49m\u001b[43m[\u001b[49m\u001b[38;5;124;43m'\u001b[39;49m\u001b[38;5;124;43mbest_df\u001b[39;49m\u001b[38;5;124;43m'\u001b[39;49m\u001b[43m]\u001b[49m\u001b[43m[\u001b[49m\u001b[38;5;241;43m0\u001b[39;49m\u001b[43m]\u001b[49m\u001b[43m)\u001b[49m\n",
      "File \u001b[1;32mc:\\Users\\PCN\\anaconda3\\envs\\dev1\\lib\\site-packages\\pandas\\core\\frame.py:886\u001b[0m, in \u001b[0;36mDataFrame.__init__\u001b[1;34m(self, data, index, columns, dtype, copy)\u001b[0m\n\u001b[0;32m    883\u001b[0m \u001b[38;5;66;03m# For data is scalar\u001b[39;00m\n\u001b[0;32m    884\u001b[0m \u001b[38;5;28;01melse\u001b[39;00m:\n\u001b[0;32m    885\u001b[0m     \u001b[38;5;28;01mif\u001b[39;00m index \u001b[38;5;129;01mis\u001b[39;00m \u001b[38;5;28;01mNone\u001b[39;00m \u001b[38;5;129;01mor\u001b[39;00m columns \u001b[38;5;129;01mis\u001b[39;00m \u001b[38;5;28;01mNone\u001b[39;00m:\n\u001b[1;32m--> 886\u001b[0m         \u001b[38;5;28;01mraise\u001b[39;00m \u001b[38;5;167;01mValueError\u001b[39;00m(\u001b[38;5;124m\"\u001b[39m\u001b[38;5;124mDataFrame constructor not properly called!\u001b[39m\u001b[38;5;124m\"\u001b[39m)\n\u001b[0;32m    888\u001b[0m     index \u001b[38;5;241m=\u001b[39m ensure_index(index)\n\u001b[0;32m    889\u001b[0m     columns \u001b[38;5;241m=\u001b[39m ensure_index(columns)\n",
      "\u001b[1;31mValueError\u001b[0m: DataFrame constructor not properly called!"
     ]
    }
   ],
   "source": [
    "pd.DataFrame(test['best_df'][0])"
   ]
  },
  {
   "cell_type": "code",
   "execution_count": 8,
   "metadata": {},
   "outputs": [],
   "source": [
    "dump_data = json.dumps(test)"
   ]
  },
  {
   "cell_type": "code",
   "execution_count": 10,
   "metadata": {},
   "outputs": [],
   "source": [
    "final = json.loads(dump_data)"
   ]
  },
  {
   "cell_type": "code",
   "execution_count": null,
   "metadata": {},
   "outputs": [],
   "source": []
  }
 ],
 "metadata": {
  "kernelspec": {
   "display_name": "dev1",
   "language": "python",
   "name": "python3"
  },
  "language_info": {
   "codemirror_mode": {
    "name": "ipython",
    "version": 3
   },
   "file_extension": ".py",
   "mimetype": "text/x-python",
   "name": "python",
   "nbconvert_exporter": "python",
   "pygments_lexer": "ipython3",
   "version": "3.9.19"
  }
 },
 "nbformat": 4,
 "nbformat_minor": 2
}
