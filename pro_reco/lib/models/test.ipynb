{
 "cells": [
  {
   "cell_type": "code",
   "execution_count": 3,
   "metadata": {},
   "outputs": [],
   "source": [
    "import pandas as pd\n",
    "import glob"
   ]
  },
  {
   "cell_type": "code",
   "execution_count": 4,
   "metadata": {},
   "outputs": [],
   "source": [
    "path = './test_data/*'\n",
    "all_path = glob.glob(path)\n",
    "all_data = []\n",
    "for num in range(len(all_path)):\n",
    "    df = pd.read_csv(all_path[num])\n",
    "    all_data.append(df)\n",
    "\n"
   ]
  },
  {
   "cell_type": "code",
   "execution_count": 5,
   "metadata": {},
   "outputs": [],
   "source": [
    "concat_df = pd.concat(all_data, axis=1)"
   ]
  },
  {
   "cell_type": "code",
   "execution_count": 6,
   "metadata": {},
   "outputs": [
    {
     "data": {
      "text/html": [
       "<div>\n",
       "<style scoped>\n",
       "    .dataframe tbody tr th:only-of-type {\n",
       "        vertical-align: middle;\n",
       "    }\n",
       "\n",
       "    .dataframe tbody tr th {\n",
       "        vertical-align: top;\n",
       "    }\n",
       "\n",
       "    .dataframe thead th {\n",
       "        text-align: right;\n",
       "    }\n",
       "</style>\n",
       "<table border=\"1\" class=\"dataframe\">\n",
       "  <thead>\n",
       "    <tr style=\"text-align: right;\">\n",
       "      <th></th>\n",
       "      <th>Unnamed: 0</th>\n",
       "    </tr>\n",
       "  </thead>\n",
       "  <tbody>\n",
       "    <tr>\n",
       "      <th>0</th>\n",
       "      <td>randomforest</td>\n",
       "    </tr>\n",
       "    <tr>\n",
       "      <th>1</th>\n",
       "      <td>adaboost</td>\n",
       "    </tr>\n",
       "    <tr>\n",
       "      <th>2</th>\n",
       "      <td>gradientboost</td>\n",
       "    </tr>\n",
       "    <tr>\n",
       "      <th>3</th>\n",
       "      <td>KNeighbors</td>\n",
       "    </tr>\n",
       "    <tr>\n",
       "      <th>4</th>\n",
       "      <td>catboost</td>\n",
       "    </tr>\n",
       "    <tr>\n",
       "      <th>5</th>\n",
       "      <td>xgboost</td>\n",
       "    </tr>\n",
       "    <tr>\n",
       "      <th>6</th>\n",
       "      <td>GaussianNB</td>\n",
       "    </tr>\n",
       "  </tbody>\n",
       "</table>\n",
       "</div>"
      ],
      "text/plain": [
       "      Unnamed: 0\n",
       "0   randomforest\n",
       "1       adaboost\n",
       "2  gradientboost\n",
       "3     KNeighbors\n",
       "4       catboost\n",
       "5        xgboost\n",
       "6     GaussianNB"
      ]
     },
     "execution_count": 6,
     "metadata": {},
     "output_type": "execute_result"
    }
   ],
   "source": [
    "concat_df['Unnamed: 0'].iloc[:, :1]"
   ]
  },
  {
   "cell_type": "code",
   "execution_count": 7,
   "metadata": {},
   "outputs": [
    {
     "data": {
      "text/plain": [
       "RangeIndex(start=0, stop=7, step=1)"
      ]
     },
     "execution_count": 7,
     "metadata": {},
     "output_type": "execute_result"
    }
   ],
   "source": [
    "preprocessed_df = concat_df[['accuracy', 'f1_weighted', 'precision', 'recall', 'Unnamed: 0']].iloc[:, :5]\n",
    "preprocessed_df.index\n",
    "# preprocessed_df.index = preprocessed_df['accuracy', 'f1_weighted', 'precision', 'recall', 'score']\n",
    "# preprocessed_df"
   ]
  },
  {
   "cell_type": "code",
   "execution_count": 8,
   "metadata": {},
   "outputs": [],
   "source": [
    "preprocessed_df.columns = [['accuracy', 'f1_weighted', 'precision', 'recall', 'model_names']]"
   ]
  },
  {
   "cell_type": "code",
   "execution_count": 9,
   "metadata": {},
   "outputs": [
    {
     "data": {
      "text/html": [
       "<div>\n",
       "<style scoped>\n",
       "    .dataframe tbody tr th:only-of-type {\n",
       "        vertical-align: middle;\n",
       "    }\n",
       "\n",
       "    .dataframe tbody tr th {\n",
       "        vertical-align: top;\n",
       "    }\n",
       "\n",
       "    .dataframe thead tr th {\n",
       "        text-align: left;\n",
       "    }\n",
       "</style>\n",
       "<table border=\"1\" class=\"dataframe\">\n",
       "  <thead>\n",
       "    <tr>\n",
       "      <th></th>\n",
       "      <th>accuracy</th>\n",
       "      <th>f1_weighted</th>\n",
       "      <th>precision</th>\n",
       "      <th>recall</th>\n",
       "      <th>model_names</th>\n",
       "    </tr>\n",
       "  </thead>\n",
       "  <tbody>\n",
       "    <tr>\n",
       "      <th>0</th>\n",
       "      <td>0.590312</td>\n",
       "      <td>0.576683</td>\n",
       "      <td>0.518782</td>\n",
       "      <td>0.410645</td>\n",
       "      <td>randomforest</td>\n",
       "    </tr>\n",
       "    <tr>\n",
       "      <th>1</th>\n",
       "      <td>0.561621</td>\n",
       "      <td>0.403962</td>\n",
       "      <td>0.199394</td>\n",
       "      <td>0.010256</td>\n",
       "      <td>adaboost</td>\n",
       "    </tr>\n",
       "    <tr>\n",
       "      <th>2</th>\n",
       "      <td>0.583558</td>\n",
       "      <td>0.573959</td>\n",
       "      <td>0.534439</td>\n",
       "      <td>0.462093</td>\n",
       "      <td>gradientboost</td>\n",
       "    </tr>\n",
       "    <tr>\n",
       "      <th>3</th>\n",
       "      <td>0.543603</td>\n",
       "      <td>0.524743</td>\n",
       "      <td>0.460266</td>\n",
       "      <td>0.372258</td>\n",
       "      <td>KNeighbors</td>\n",
       "    </tr>\n",
       "    <tr>\n",
       "      <th>4</th>\n",
       "      <td>0.581852</td>\n",
       "      <td>0.578936</td>\n",
       "      <td>0.554952</td>\n",
       "      <td>0.435170</td>\n",
       "      <td>catboost</td>\n",
       "    </tr>\n",
       "    <tr>\n",
       "      <th>5</th>\n",
       "      <td>0.603236</td>\n",
       "      <td>0.589257</td>\n",
       "      <td>0.544441</td>\n",
       "      <td>0.468437</td>\n",
       "      <td>xgboost</td>\n",
       "    </tr>\n",
       "    <tr>\n",
       "      <th>6</th>\n",
       "      <td>0.501402</td>\n",
       "      <td>0.478946</td>\n",
       "      <td>0.393941</td>\n",
       "      <td>0.275931</td>\n",
       "      <td>GaussianNB</td>\n",
       "    </tr>\n",
       "  </tbody>\n",
       "</table>\n",
       "</div>"
      ],
      "text/plain": [
       "   accuracy f1_weighted precision    recall    model_names\n",
       "0  0.590312    0.576683  0.518782  0.410645   randomforest\n",
       "1  0.561621    0.403962  0.199394  0.010256       adaboost\n",
       "2  0.583558    0.573959  0.534439  0.462093  gradientboost\n",
       "3  0.543603    0.524743  0.460266  0.372258     KNeighbors\n",
       "4  0.581852    0.578936  0.554952  0.435170       catboost\n",
       "5  0.603236    0.589257  0.544441  0.468437        xgboost\n",
       "6  0.501402    0.478946  0.393941  0.275931     GaussianNB"
      ]
     },
     "execution_count": 9,
     "metadata": {},
     "output_type": "execute_result"
    }
   ],
   "source": [
    "preprocessed_df"
   ]
  },
  {
   "cell_type": "code",
   "execution_count": 10,
   "metadata": {},
   "outputs": [
    {
     "data": {
      "text/html": [
       "<div>\n",
       "<style scoped>\n",
       "    .dataframe tbody tr th:only-of-type {\n",
       "        vertical-align: middle;\n",
       "    }\n",
       "\n",
       "    .dataframe tbody tr th {\n",
       "        vertical-align: top;\n",
       "    }\n",
       "\n",
       "    .dataframe thead th {\n",
       "        text-align: right;\n",
       "    }\n",
       "</style>\n",
       "<table border=\"1\" class=\"dataframe\">\n",
       "  <thead>\n",
       "    <tr style=\"text-align: right;\">\n",
       "      <th></th>\n",
       "      <th>0</th>\n",
       "      <th>1</th>\n",
       "      <th>2</th>\n",
       "      <th>3</th>\n",
       "      <th>4</th>\n",
       "      <th>5</th>\n",
       "      <th>6</th>\n",
       "    </tr>\n",
       "  </thead>\n",
       "  <tbody>\n",
       "    <tr>\n",
       "      <th>accuracy</th>\n",
       "      <td>0.590312</td>\n",
       "      <td>0.561621</td>\n",
       "      <td>0.583558</td>\n",
       "      <td>0.543603</td>\n",
       "      <td>0.581852</td>\n",
       "      <td>0.603236</td>\n",
       "      <td>0.501402</td>\n",
       "    </tr>\n",
       "    <tr>\n",
       "      <th>f1_weighted</th>\n",
       "      <td>0.576683</td>\n",
       "      <td>0.403962</td>\n",
       "      <td>0.573959</td>\n",
       "      <td>0.524743</td>\n",
       "      <td>0.578936</td>\n",
       "      <td>0.589257</td>\n",
       "      <td>0.478946</td>\n",
       "    </tr>\n",
       "    <tr>\n",
       "      <th>precision</th>\n",
       "      <td>0.518782</td>\n",
       "      <td>0.199394</td>\n",
       "      <td>0.534439</td>\n",
       "      <td>0.460266</td>\n",
       "      <td>0.554952</td>\n",
       "      <td>0.544441</td>\n",
       "      <td>0.393941</td>\n",
       "    </tr>\n",
       "    <tr>\n",
       "      <th>recall</th>\n",
       "      <td>0.410645</td>\n",
       "      <td>0.010256</td>\n",
       "      <td>0.462093</td>\n",
       "      <td>0.372258</td>\n",
       "      <td>0.43517</td>\n",
       "      <td>0.468437</td>\n",
       "      <td>0.275931</td>\n",
       "    </tr>\n",
       "    <tr>\n",
       "      <th>model_names</th>\n",
       "      <td>randomforest</td>\n",
       "      <td>adaboost</td>\n",
       "      <td>gradientboost</td>\n",
       "      <td>KNeighbors</td>\n",
       "      <td>catboost</td>\n",
       "      <td>xgboost</td>\n",
       "      <td>GaussianNB</td>\n",
       "    </tr>\n",
       "  </tbody>\n",
       "</table>\n",
       "</div>"
      ],
      "text/plain": [
       "                        0         1              2           3         4  \\\n",
       "accuracy         0.590312  0.561621       0.583558    0.543603  0.581852   \n",
       "f1_weighted      0.576683  0.403962       0.573959    0.524743  0.578936   \n",
       "precision        0.518782  0.199394       0.534439    0.460266  0.554952   \n",
       "recall           0.410645  0.010256       0.462093    0.372258   0.43517   \n",
       "model_names  randomforest  adaboost  gradientboost  KNeighbors  catboost   \n",
       "\n",
       "                    5           6  \n",
       "accuracy     0.603236    0.501402  \n",
       "f1_weighted  0.589257    0.478946  \n",
       "precision    0.544441    0.393941  \n",
       "recall       0.468437    0.275931  \n",
       "model_names   xgboost  GaussianNB  "
      ]
     },
     "execution_count": 10,
     "metadata": {},
     "output_type": "execute_result"
    }
   ],
   "source": [
    "preprocessed_df.transpose()"
   ]
  },
  {
   "cell_type": "code",
   "execution_count": 11,
   "metadata": {},
   "outputs": [],
   "source": [
    "preprocessed_df.index = preprocessed_df['model_names']"
   ]
  },
  {
   "cell_type": "code",
   "execution_count": 12,
   "metadata": {},
   "outputs": [],
   "source": [
    "test_df = preprocessed_df.iloc[:, :4]"
   ]
  },
  {
   "cell_type": "code",
   "execution_count": 13,
   "metadata": {},
   "outputs": [
    {
     "data": {
      "text/html": [
       "<div>\n",
       "<style scoped>\n",
       "    .dataframe tbody tr th:only-of-type {\n",
       "        vertical-align: middle;\n",
       "    }\n",
       "\n",
       "    .dataframe tbody tr th {\n",
       "        vertical-align: top;\n",
       "    }\n",
       "\n",
       "    .dataframe thead tr th {\n",
       "        text-align: left;\n",
       "    }\n",
       "</style>\n",
       "<table border=\"1\" class=\"dataframe\">\n",
       "  <thead>\n",
       "    <tr>\n",
       "      <th></th>\n",
       "      <th>accuracy</th>\n",
       "      <th>f1_weighted</th>\n",
       "      <th>precision</th>\n",
       "      <th>recall</th>\n",
       "    </tr>\n",
       "  </thead>\n",
       "  <tbody>\n",
       "    <tr>\n",
       "      <th>(randomforest,)</th>\n",
       "      <td>0.590312</td>\n",
       "      <td>0.576683</td>\n",
       "      <td>0.518782</td>\n",
       "      <td>0.410645</td>\n",
       "    </tr>\n",
       "    <tr>\n",
       "      <th>(adaboost,)</th>\n",
       "      <td>0.561621</td>\n",
       "      <td>0.403962</td>\n",
       "      <td>0.199394</td>\n",
       "      <td>0.010256</td>\n",
       "    </tr>\n",
       "    <tr>\n",
       "      <th>(gradientboost,)</th>\n",
       "      <td>0.583558</td>\n",
       "      <td>0.573959</td>\n",
       "      <td>0.534439</td>\n",
       "      <td>0.462093</td>\n",
       "    </tr>\n",
       "    <tr>\n",
       "      <th>(KNeighbors,)</th>\n",
       "      <td>0.543603</td>\n",
       "      <td>0.524743</td>\n",
       "      <td>0.460266</td>\n",
       "      <td>0.372258</td>\n",
       "    </tr>\n",
       "    <tr>\n",
       "      <th>(catboost,)</th>\n",
       "      <td>0.581852</td>\n",
       "      <td>0.578936</td>\n",
       "      <td>0.554952</td>\n",
       "      <td>0.435170</td>\n",
       "    </tr>\n",
       "    <tr>\n",
       "      <th>(xgboost,)</th>\n",
       "      <td>0.603236</td>\n",
       "      <td>0.589257</td>\n",
       "      <td>0.544441</td>\n",
       "      <td>0.468437</td>\n",
       "    </tr>\n",
       "    <tr>\n",
       "      <th>(GaussianNB,)</th>\n",
       "      <td>0.501402</td>\n",
       "      <td>0.478946</td>\n",
       "      <td>0.393941</td>\n",
       "      <td>0.275931</td>\n",
       "    </tr>\n",
       "  </tbody>\n",
       "</table>\n",
       "</div>"
      ],
      "text/plain": [
       "                  accuracy f1_weighted precision    recall\n",
       "(randomforest,)   0.590312    0.576683  0.518782  0.410645\n",
       "(adaboost,)       0.561621    0.403962  0.199394  0.010256\n",
       "(gradientboost,)  0.583558    0.573959  0.534439  0.462093\n",
       "(KNeighbors,)     0.543603    0.524743  0.460266  0.372258\n",
       "(catboost,)       0.581852    0.578936  0.554952  0.435170\n",
       "(xgboost,)        0.603236    0.589257  0.544441  0.468437\n",
       "(GaussianNB,)     0.501402    0.478946  0.393941  0.275931"
      ]
     },
     "execution_count": 13,
     "metadata": {},
     "output_type": "execute_result"
    }
   ],
   "source": [
    "preprocessed_df.iloc[:, :4]"
   ]
  },
  {
   "cell_type": "code",
   "execution_count": 14,
   "metadata": {},
   "outputs": [],
   "source": [
    "test_df.index = concat_df['Unnamed: 0'].iloc[:, :1]"
   ]
  },
  {
   "cell_type": "code",
   "execution_count": 15,
   "metadata": {},
   "outputs": [],
   "source": [
    "test_df.to_csv('./test.csv', index=False)"
   ]
  },
  {
   "cell_type": "code",
   "execution_count": 16,
   "metadata": {},
   "outputs": [
    {
     "data": {
      "text/html": [
       "<div>\n",
       "<style scoped>\n",
       "    .dataframe tbody tr th:only-of-type {\n",
       "        vertical-align: middle;\n",
       "    }\n",
       "\n",
       "    .dataframe tbody tr th {\n",
       "        vertical-align: top;\n",
       "    }\n",
       "\n",
       "    .dataframe thead th {\n",
       "        text-align: right;\n",
       "    }\n",
       "</style>\n",
       "<table border=\"1\" class=\"dataframe\">\n",
       "  <thead>\n",
       "    <tr style=\"text-align: right;\">\n",
       "      <th></th>\n",
       "      <th>(randomforest,)</th>\n",
       "      <th>(adaboost,)</th>\n",
       "      <th>(gradientboost,)</th>\n",
       "      <th>(KNeighbors,)</th>\n",
       "      <th>(catboost,)</th>\n",
       "      <th>(xgboost,)</th>\n",
       "      <th>(GaussianNB,)</th>\n",
       "    </tr>\n",
       "  </thead>\n",
       "  <tbody>\n",
       "    <tr>\n",
       "      <th>accuracy</th>\n",
       "      <td>0.590312</td>\n",
       "      <td>0.561621</td>\n",
       "      <td>0.583558</td>\n",
       "      <td>0.543603</td>\n",
       "      <td>0.581852</td>\n",
       "      <td>0.603236</td>\n",
       "      <td>0.501402</td>\n",
       "    </tr>\n",
       "    <tr>\n",
       "      <th>f1_weighted</th>\n",
       "      <td>0.576683</td>\n",
       "      <td>0.403962</td>\n",
       "      <td>0.573959</td>\n",
       "      <td>0.524743</td>\n",
       "      <td>0.578936</td>\n",
       "      <td>0.589257</td>\n",
       "      <td>0.478946</td>\n",
       "    </tr>\n",
       "    <tr>\n",
       "      <th>precision</th>\n",
       "      <td>0.518782</td>\n",
       "      <td>0.199394</td>\n",
       "      <td>0.534439</td>\n",
       "      <td>0.460266</td>\n",
       "      <td>0.554952</td>\n",
       "      <td>0.544441</td>\n",
       "      <td>0.393941</td>\n",
       "    </tr>\n",
       "    <tr>\n",
       "      <th>recall</th>\n",
       "      <td>0.410645</td>\n",
       "      <td>0.010256</td>\n",
       "      <td>0.462093</td>\n",
       "      <td>0.372258</td>\n",
       "      <td>0.435170</td>\n",
       "      <td>0.468437</td>\n",
       "      <td>0.275931</td>\n",
       "    </tr>\n",
       "  </tbody>\n",
       "</table>\n",
       "</div>"
      ],
      "text/plain": [
       "             (randomforest,)  (adaboost,)  (gradientboost,)  (KNeighbors,)  \\\n",
       "accuracy            0.590312     0.561621          0.583558       0.543603   \n",
       "f1_weighted         0.576683     0.403962          0.573959       0.524743   \n",
       "precision           0.518782     0.199394          0.534439       0.460266   \n",
       "recall              0.410645     0.010256          0.462093       0.372258   \n",
       "\n",
       "             (catboost,)  (xgboost,)  (GaussianNB,)  \n",
       "accuracy        0.581852    0.603236       0.501402  \n",
       "f1_weighted     0.578936    0.589257       0.478946  \n",
       "precision       0.554952    0.544441       0.393941  \n",
       "recall          0.435170    0.468437       0.275931  "
      ]
     },
     "execution_count": 16,
     "metadata": {},
     "output_type": "execute_result"
    }
   ],
   "source": [
    "preprocessed_df.iloc[:, :4].transpose()"
   ]
  },
  {
   "cell_type": "code",
   "execution_count": 17,
   "metadata": {},
   "outputs": [
    {
     "data": {
      "text/plain": [
       "<Axes: >"
      ]
     },
     "execution_count": 17,
     "metadata": {},
     "output_type": "execute_result"
    },
    {
     "data": {
      "image/png": "[encoded data removed]",
      "text/plain": [
       "<Figure size 640x480 with 1 Axes>"
      ]
     },
     "metadata": {},
     "output_type": "display_data"
    }
   ],
   "source": [
    "preprocessed_df.iloc[:, :4].transpose().plot.bar()"
   ]
  },
  {
   "cell_type": "code",
   "execution_count": null,
   "metadata": {},
   "outputs": [],
   "source": []
  }
 ],
 "metadata": {
  "kernelspec": {
   "display_name": "dev1",
   "language": "python",
   "name": "python3"
  },
  "language_info": {
   "codemirror_mode": {
    "name": "ipython",
    "version": 3
   },
   "file_extension": ".py",
   "mimetype": "text/x-python",
   "name": "python",
   "nbconvert_exporter": "python",
   "pygments_lexer": "ipython3",
   "version": "3.9.19"
  }
 },
 "nbformat": 4,
 "nbformat_minor": 2
}
