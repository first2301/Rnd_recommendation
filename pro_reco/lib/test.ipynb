{
 "cells": [
  {
   "cell_type": "code",
   "execution_count": 1,
   "metadata": {},
   "outputs": [
    {
     "name": "stderr",
     "output_type": "stream",
     "text": [
      "c:\\Users\\PCN\\anaconda3\\envs\\dev1\\lib\\site-packages\\tqdm\\auto.py:21: TqdmWarning: IProgress not found. Please update jupyter and ipywidgets. See https://ipywidgets.readthedocs.io/en/stable/user_install.html\n",
      "  from .autonotebook import tqdm as notebook_tqdm\n"
     ]
    }
   ],
   "source": [
    "# https://scikit-learn.org/stable/modules/model_evaluation.html\n",
    "import optuna\n",
    "import pandas as pd\n",
    "# from ml_engine_tune import Classification, Regression\n",
    "from sklearn.model_selection import cross_val_score, train_test_split\n",
    "from sklearn.metrics import accuracy_score, precision_score, recall_score, f1_score\n",
    "from sklearn.ensemble import RandomForestClassifier\n",
    "from sklearn.ensemble import AdaBoostClassifier\n",
    "from sklearn.tree import DecisionTreeClassifier\n",
    "from ml_engine_tune import * \n",
    "from prepro import *"
   ]
  },
  {
   "cell_type": "code",
   "execution_count": 2,
   "metadata": {},
   "outputs": [],
   "source": [
    "PATH = 'F:\\industry\\data\\clf_data\\Test_02.csv'\n",
    "\n",
    "df = pd.read_csv(PATH)\n",
    "# X = df.drop('Potability', axis=1)\n",
    "# y = df['Potability']"
   ]
  },
  {
   "cell_type": "code",
   "execution_count": 3,
   "metadata": {},
   "outputs": [],
   "source": [
    "# models = ['RandomForestClassifier' ,'AdaBoostClassifier', 'GradientBoostingClassifier' , 'KNeighborsClassifier', 'XGBClassifier', \n",
    "        #           'GaussianNB', 'QuadraticDiscriminantAnalysis', 'LinearDiscriminantAnalysis', 'CatBoostClassifier']"
   ]
  },
  {
   "cell_type": "code",
   "execution_count": 8,
   "metadata": {},
   "outputs": [
    {
     "name": "stderr",
     "output_type": "stream",
     "text": [
      "[I 2024-05-28 17:48:04,678] A new study created in memory with name: no-name-dffca2be-39d7-487b-86cc-5789d2f3d2df\n",
      "[I 2024-05-28 17:48:06,394] Trial 0 finished with value: 0.5914290235796804 and parameters: {'max_depth': 12}. Best is trial 0 with value: 0.5914290235796804.\n",
      "[I 2024-05-28 17:48:07,058] Trial 1 finished with value: 0.5587988605792057 and parameters: {'max_depth': 2}. Best is trial 0 with value: 0.5914290235796804.\n",
      "[I 2024-05-28 17:48:07,724] Trial 2 finished with value: 0.5588036081658492 and parameters: {'max_depth': 2}. Best is trial 0 with value: 0.5914290235796804.\n",
      "[I 2024-05-28 17:48:09,024] Trial 3 finished with value: 0.576795379015667 and parameters: {'max_depth': 7}. Best is trial 0 with value: 0.5914290235796804.\n",
      "[I 2024-05-28 17:48:10,324] Trial 4 finished with value: 0.5846589650261118 and parameters: {'max_depth': 7}. Best is trial 0 with value: 0.5914290235796804.\n",
      "[I 2024-05-28 17:48:11,025] Trial 5 finished with value: 0.556545339452445 and parameters: {'max_depth': 2}. Best is trial 0 with value: 0.5914290235796804.\n",
      "[I 2024-05-28 17:48:12,526] Trial 6 finished with value: 0.586347523342301 and parameters: {'max_depth': 9}. Best is trial 0 with value: 0.5914290235796804.\n",
      "[I 2024-05-28 17:48:13,708] Trial 7 finished with value: 0.5795996201930685 and parameters: {'max_depth': 6}. Best is trial 0 with value: 0.5914290235796804.\n",
      "[I 2024-05-28 17:48:14,657] Trial 8 finished with value: 0.57171704383605 and parameters: {'max_depth': 4}. Best is trial 0 with value: 0.5914290235796804.\n",
      "[I 2024-05-28 17:48:16,474] Trial 9 finished with value: 0.5897214749169173 and parameters: {'max_depth': 14}. Best is trial 0 with value: 0.5914290235796804.\n",
      "[I 2024-05-28 17:48:16,489] A new study created in memory with name: no-name-8f39f5eb-a089-4ef6-a053-2e3d77c3e2ae\n",
      "[W 2024-05-28 17:48:16,491] Trial 0 failed with parameters: {'max_depth': 3} because of the following error: InvalidParameterError(\"The 'estimator' parameter of cross_val_score must be an object implementing 'fit'. Got None instead.\").\n",
      "Traceback (most recent call last):\n",
      "  File \"c:\\Users\\PCN\\anaconda3\\envs\\dev1\\lib\\site-packages\\optuna\\study\\_optimize.py\", line 196, in _run_trial\n",
      "    value_or_values = func(trial)\n",
      "  File \"f:\\industry\\git_reco\\pro_reco\\lib\\ml_engine_tune.py\", line 81, in model\n",
      "  File \"c:\\Users\\PCN\\anaconda3\\envs\\dev1\\lib\\site-packages\\sklearn\\utils\\_param_validation.py\", line 203, in wrapper\n",
      "    validate_parameter_constraints(\n",
      "  File \"c:\\Users\\PCN\\anaconda3\\envs\\dev1\\lib\\site-packages\\sklearn\\utils\\_param_validation.py\", line 95, in validate_parameter_constraints\n",
      "    raise InvalidParameterError(\n",
      "sklearn.utils._param_validation.InvalidParameterError: The 'estimator' parameter of cross_val_score must be an object implementing 'fit'. Got None instead.\n",
      "[W 2024-05-28 17:48:16,491] Trial 0 failed with value None.\n"
     ]
    },
    {
     "name": "stdout",
     "output_type": "stream",
     "text": [
      "Unexpected exception formatting exception. Falling back to standard exception\n"
     ]
    },
    {
     "name": "stderr",
     "output_type": "stream",
     "text": [
      "Traceback (most recent call last):\n",
      "  File \"c:\\Users\\PCN\\anaconda3\\envs\\dev1\\lib\\site-packages\\IPython\\core\\interactiveshell.py\", line 3505, in run_code\n",
      "    exec(code_obj, self.user_global_ns, self.user_ns)\n",
      "  File \"C:\\Users\\PCN\\AppData\\Local\\Temp\\ipykernel_7236\\1135847487.py\", line 8, in <module>\n",
      "    result = model.run_model()\n",
      "  File \"f:\\industry\\git_reco\\pro_reco\\lib\\ml_engine_tune.py\", line 84, in run_model\n",
      "  File \"f:\\industry\\git_reco\\pro_reco\\lib\\ml_engine_tune.py\", line 39, in optimizer\n",
      "    study.optimize(model, n_trials=self.n_trials)\n",
      "  File \"c:\\Users\\PCN\\anaconda3\\envs\\dev1\\lib\\site-packages\\optuna\\study\\study.py\", line 451, in optimize\n",
      "    _optimize(\n",
      "  File \"c:\\Users\\PCN\\anaconda3\\envs\\dev1\\lib\\site-packages\\optuna\\study\\_optimize.py\", line 62, in _optimize\n",
      "    _optimize_sequential(\n",
      "  File \"c:\\Users\\PCN\\anaconda3\\envs\\dev1\\lib\\site-packages\\optuna\\study\\_optimize.py\", line 159, in _optimize_sequential\n",
      "    frozen_trial = _run_trial(study, func, catch)\n",
      "  File \"c:\\Users\\PCN\\anaconda3\\envs\\dev1\\lib\\site-packages\\optuna\\study\\_optimize.py\", line 247, in _run_trial\n",
      "    raise func_err\n",
      "  File \"c:\\Users\\PCN\\anaconda3\\envs\\dev1\\lib\\site-packages\\optuna\\study\\_optimize.py\", line 196, in _run_trial\n",
      "    value_or_values = func(trial)\n",
      "  File \"f:\\industry\\git_reco\\pro_reco\\lib\\ml_engine_tune.py\", line 81, in model\n",
      "  File \"c:\\Users\\PCN\\anaconda3\\envs\\dev1\\lib\\site-packages\\sklearn\\utils\\_param_validation.py\", line 203, in wrapper\n",
      "    validate_parameter_constraints(\n",
      "  File \"c:\\Users\\PCN\\anaconda3\\envs\\dev1\\lib\\site-packages\\sklearn\\utils\\_param_validation.py\", line 95, in validate_parameter_constraints\n",
      "    raise InvalidParameterError(\n",
      "sklearn.utils._param_validation.InvalidParameterError: The 'estimator' parameter of cross_val_score must be an object implementing 'fit'. Got None instead.\n",
      "\n",
      "During handling of the above exception, another exception occurred:\n",
      "\n",
      "Traceback (most recent call last):\n",
      "  File \"c:\\Users\\PCN\\anaconda3\\envs\\dev1\\lib\\site-packages\\IPython\\core\\interactiveshell.py\", line 2102, in showtraceback\n",
      "    stb = self.InteractiveTB.structured_traceback(\n",
      "  File \"c:\\Users\\PCN\\anaconda3\\envs\\dev1\\lib\\site-packages\\IPython\\core\\ultratb.py\", line 1310, in structured_traceback\n",
      "    return FormattedTB.structured_traceback(\n",
      "  File \"c:\\Users\\PCN\\anaconda3\\envs\\dev1\\lib\\site-packages\\IPython\\core\\ultratb.py\", line 1199, in structured_traceback\n",
      "    return VerboseTB.structured_traceback(\n",
      "  File \"c:\\Users\\PCN\\anaconda3\\envs\\dev1\\lib\\site-packages\\IPython\\core\\ultratb.py\", line 1052, in structured_traceback\n",
      "    formatted_exception = self.format_exception_as_a_whole(etype, evalue, etb, number_of_lines_of_context,\n",
      "  File \"c:\\Users\\PCN\\anaconda3\\envs\\dev1\\lib\\site-packages\\IPython\\core\\ultratb.py\", line 978, in format_exception_as_a_whole\n",
      "    frames.append(self.format_record(record))\n",
      "  File \"c:\\Users\\PCN\\anaconda3\\envs\\dev1\\lib\\site-packages\\IPython\\core\\ultratb.py\", line 878, in format_record\n",
      "    frame_info.lines, Colors, self.has_colors, lvals\n",
      "  File \"c:\\Users\\PCN\\anaconda3\\envs\\dev1\\lib\\site-packages\\IPython\\core\\ultratb.py\", line 712, in lines\n",
      "    return self._sd.lines\n",
      "  File \"c:\\Users\\PCN\\anaconda3\\envs\\dev1\\lib\\site-packages\\stack_data\\utils.py\", line 144, in cached_property_wrapper\n",
      "    value = obj.__dict__[self.func.__name__] = self.func(obj)\n",
      "  File \"c:\\Users\\PCN\\anaconda3\\envs\\dev1\\lib\\site-packages\\stack_data\\core.py\", line 734, in lines\n",
      "    pieces = self.included_pieces\n",
      "  File \"c:\\Users\\PCN\\anaconda3\\envs\\dev1\\lib\\site-packages\\stack_data\\utils.py\", line 144, in cached_property_wrapper\n",
      "    value = obj.__dict__[self.func.__name__] = self.func(obj)\n",
      "  File \"c:\\Users\\PCN\\anaconda3\\envs\\dev1\\lib\\site-packages\\stack_data\\core.py\", line 681, in included_pieces\n",
      "    pos = scope_pieces.index(self.executing_piece)\n",
      "  File \"c:\\Users\\PCN\\anaconda3\\envs\\dev1\\lib\\site-packages\\stack_data\\utils.py\", line 144, in cached_property_wrapper\n",
      "    value = obj.__dict__[self.func.__name__] = self.func(obj)\n",
      "  File \"c:\\Users\\PCN\\anaconda3\\envs\\dev1\\lib\\site-packages\\stack_data\\core.py\", line 660, in executing_piece\n",
      "    return only(\n",
      "  File \"c:\\Users\\PCN\\anaconda3\\envs\\dev1\\lib\\site-packages\\executing\\executing.py\", line 116, in only\n",
      "    raise NotOneValueFound('Expected one value, found 0')\n",
      "executing.executing.NotOneValueFound: Expected one value, found 0\n"
     ]
    }
   ],
   "source": [
    "best_result = None\n",
    "all_result = None\n",
    "# model_lists = ['RandomForestClassifier', 'GradientBoostingClassifier', 'XGBClassifier', 'CatBoostClassifier', 'AdaBoostClassifier', 'KNeighborsClassifier', 'GaussianNB', 'QuadraticDiscriminantAnalysis']\n",
    "model_lists = ['RandomForestClassifier', 'GradientBoostingClassifier', 'XGBClassifier', 'CatBoostClassifier']\n",
    "for model_name in model_lists:\n",
    "    model = Classification(df, 'Potability', model_name, n_trials=10)\n",
    "    prepro = Preprocessing()\n",
    "    result = model.run_model()\n",
    "    best = prepro.is_best_trial_df(result['best_trial'])\n",
    "    all_trial = prepro.is_all_trials_df(result['trials'])"
   ]
  },
  {
   "cell_type": "code",
   "execution_count": 5,
   "metadata": {},
   "outputs": [],
   "source": [
    "prepro = Preprocessing()"
   ]
  },
  {
   "cell_type": "code",
   "execution_count": 6,
   "metadata": {},
   "outputs": [
    {
     "data": {
      "text/html": [
       "<div>\n",
       "<style scoped>\n",
       "    .dataframe tbody tr th:only-of-type {\n",
       "        vertical-align: middle;\n",
       "    }\n",
       "\n",
       "    .dataframe tbody tr th {\n",
       "        vertical-align: top;\n",
       "    }\n",
       "\n",
       "    .dataframe thead th {\n",
       "        text-align: right;\n",
       "    }\n",
       "</style>\n",
       "<table border=\"1\" class=\"dataframe\">\n",
       "  <thead>\n",
       "    <tr style=\"text-align: right;\">\n",
       "      <th></th>\n",
       "      <th>number</th>\n",
       "      <th>value</th>\n",
       "      <th>datetime_start</th>\n",
       "      <th>datetime_complete</th>\n",
       "      <th>learning_rate</th>\n",
       "    </tr>\n",
       "  </thead>\n",
       "  <tbody>\n",
       "    <tr>\n",
       "      <th>0</th>\n",
       "      <td>9</td>\n",
       "      <td>0.530112</td>\n",
       "      <td>2024-05-28 17:23:53.901374</td>\n",
       "      <td>2024-05-28 17:23:54.484865</td>\n",
       "      <td>1</td>\n",
       "    </tr>\n",
       "  </tbody>\n",
       "</table>\n",
       "</div>"
      ],
      "text/plain": [
       "   number     value             datetime_start          datetime_complete  \\\n",
       "0       9  0.530112 2024-05-28 17:23:53.901374 2024-05-28 17:23:54.484865   \n",
       "\n",
       "   learning_rate  \n",
       "0              1  "
      ]
     },
     "execution_count": 6,
     "metadata": {},
     "output_type": "execute_result"
    }
   ],
   "source": [
    "prepro.is_best_trial_df(result['best_trial'])"
   ]
  },
  {
   "cell_type": "code",
   "execution_count": 7,
   "metadata": {},
   "outputs": [
    {
     "data": {
      "text/html": [
       "<div>\n",
       "<style scoped>\n",
       "    .dataframe tbody tr th:only-of-type {\n",
       "        vertical-align: middle;\n",
       "    }\n",
       "\n",
       "    .dataframe tbody tr th {\n",
       "        vertical-align: top;\n",
       "    }\n",
       "\n",
       "    .dataframe thead th {\n",
       "        text-align: right;\n",
       "    }\n",
       "</style>\n",
       "<table border=\"1\" class=\"dataframe\">\n",
       "  <thead>\n",
       "    <tr style=\"text-align: right;\">\n",
       "      <th></th>\n",
       "      <th>number</th>\n",
       "      <th>value</th>\n",
       "      <th>datetime_start</th>\n",
       "      <th>datetime_complete</th>\n",
       "      <th>learning_rate</th>\n",
       "    </tr>\n",
       "  </thead>\n",
       "  <tbody>\n",
       "    <tr>\n",
       "      <th>0</th>\n",
       "      <td>0</td>\n",
       "      <td>0.454138</td>\n",
       "      <td>2024-05-28 17:23:48.271555</td>\n",
       "      <td>2024-05-28 17:23:48.893238</td>\n",
       "      <td>4</td>\n",
       "    </tr>\n",
       "    <tr>\n",
       "      <th>1</th>\n",
       "      <td>1</td>\n",
       "      <td>0.446827</td>\n",
       "      <td>2024-05-28 17:23:48.893238</td>\n",
       "      <td>2024-05-28 17:23:49.584635</td>\n",
       "      <td>9</td>\n",
       "    </tr>\n",
       "    <tr>\n",
       "      <th>2</th>\n",
       "      <td>2</td>\n",
       "      <td>0.453013</td>\n",
       "      <td>2024-05-28 17:23:49.584635</td>\n",
       "      <td>2024-05-28 17:23:50.170237</td>\n",
       "      <td>5</td>\n",
       "    </tr>\n",
       "    <tr>\n",
       "      <th>3</th>\n",
       "      <td>3</td>\n",
       "      <td>0.451321</td>\n",
       "      <td>2024-05-28 17:23:50.170237</td>\n",
       "      <td>2024-05-28 17:23:50.786130</td>\n",
       "      <td>6</td>\n",
       "    </tr>\n",
       "    <tr>\n",
       "      <th>4</th>\n",
       "      <td>4</td>\n",
       "      <td>0.449644</td>\n",
       "      <td>2024-05-28 17:23:50.786652</td>\n",
       "      <td>2024-05-28 17:23:51.401321</td>\n",
       "      <td>3</td>\n",
       "    </tr>\n",
       "    <tr>\n",
       "      <th>5</th>\n",
       "      <td>5</td>\n",
       "      <td>0.451321</td>\n",
       "      <td>2024-05-28 17:23:51.401321</td>\n",
       "      <td>2024-05-28 17:23:52.001547</td>\n",
       "      <td>6</td>\n",
       "    </tr>\n",
       "    <tr>\n",
       "      <th>6</th>\n",
       "      <td>6</td>\n",
       "      <td>0.451321</td>\n",
       "      <td>2024-05-28 17:23:52.001547</td>\n",
       "      <td>2024-05-28 17:23:52.634812</td>\n",
       "      <td>6</td>\n",
       "    </tr>\n",
       "    <tr>\n",
       "      <th>7</th>\n",
       "      <td>7</td>\n",
       "      <td>0.492428</td>\n",
       "      <td>2024-05-28 17:23:52.634812</td>\n",
       "      <td>2024-05-28 17:23:53.273588</td>\n",
       "      <td>2</td>\n",
       "    </tr>\n",
       "    <tr>\n",
       "      <th>8</th>\n",
       "      <td>8</td>\n",
       "      <td>0.453013</td>\n",
       "      <td>2024-05-28 17:23:53.274648</td>\n",
       "      <td>2024-05-28 17:23:53.898107</td>\n",
       "      <td>5</td>\n",
       "    </tr>\n",
       "    <tr>\n",
       "      <th>9</th>\n",
       "      <td>9</td>\n",
       "      <td>0.530112</td>\n",
       "      <td>2024-05-28 17:23:53.901374</td>\n",
       "      <td>2024-05-28 17:23:54.484865</td>\n",
       "      <td>1</td>\n",
       "    </tr>\n",
       "  </tbody>\n",
       "</table>\n",
       "</div>"
      ],
      "text/plain": [
       "   number     value             datetime_start          datetime_complete  \\\n",
       "0       0  0.454138 2024-05-28 17:23:48.271555 2024-05-28 17:23:48.893238   \n",
       "1       1  0.446827 2024-05-28 17:23:48.893238 2024-05-28 17:23:49.584635   \n",
       "2       2  0.453013 2024-05-28 17:23:49.584635 2024-05-28 17:23:50.170237   \n",
       "3       3  0.451321 2024-05-28 17:23:50.170237 2024-05-28 17:23:50.786130   \n",
       "4       4  0.449644 2024-05-28 17:23:50.786652 2024-05-28 17:23:51.401321   \n",
       "5       5  0.451321 2024-05-28 17:23:51.401321 2024-05-28 17:23:52.001547   \n",
       "6       6  0.451321 2024-05-28 17:23:52.001547 2024-05-28 17:23:52.634812   \n",
       "7       7  0.492428 2024-05-28 17:23:52.634812 2024-05-28 17:23:53.273588   \n",
       "8       8  0.453013 2024-05-28 17:23:53.274648 2024-05-28 17:23:53.898107   \n",
       "9       9  0.530112 2024-05-28 17:23:53.901374 2024-05-28 17:23:54.484865   \n",
       "\n",
       "   learning_rate  \n",
       "0              4  \n",
       "1              9  \n",
       "2              5  \n",
       "3              6  \n",
       "4              3  \n",
       "5              6  \n",
       "6              6  \n",
       "7              2  \n",
       "8              5  \n",
       "9              1  "
      ]
     },
     "execution_count": 7,
     "metadata": {},
     "output_type": "execute_result"
    }
   ],
   "source": [
    "prepro.is_all_trials_df(result['trials'])"
   ]
  },
  {
   "cell_type": "code",
   "execution_count": 11,
   "metadata": {},
   "outputs": [],
   "source": [
    "class Datasets:\n",
    "    def __init__(self, df, target, n_trials=50):\n",
    "        self.df = df\n",
    "        self.target = target\n",
    "        self.n_trials = n_trials\n",
    "        self.X = df.drop(target, axis=1)\n",
    "        self.y = df[target]\n",
    "        self.study = optuna.create_study(direction=\"maximize\")\n",
    "    def optimizer(self, model):\n",
    "        study = self.study\n",
    "        study.optimize(model, n_trials=self.n_trials)"
   ]
  },
  {
   "cell_type": "code",
   "execution_count": 6,
   "metadata": {},
   "outputs": [],
   "source": [
    "class Adaboost(Datasets):\n",
    "    def __init__(self, df, target, n_trials=10):\n",
    "        super().__init__(df, target, n_trials)\n",
    "\n",
    "    def model(self, trial):\n",
    "        n_estimators = trial.suggest_int('n_estimators', 50, 300)\n",
    "        learning_rate = trial.suggest_float('learning_rate', 0.01, 1.0)\n",
    "        # max_depth = trial.suggest_int('max_depth', 1, 10)\n",
    "        model = AdaBoostClassifier(n_estimators=n_estimators, learning_rate=learning_rate, algorithm='SAMME') # estimator=DecisionTreeClassifier(max_depth=max_depth),\n",
    "        return cross_val_score(model, self.X, self.y, cv=5, scoring='accuracy').mean()\n",
    "    \n",
    "    def run_model(self):\n",
    "        self.optimizer(self.model)\n",
    "        return self.study.best_value\n",
    "\n",
    "class RandomForestClf(Datasets):\n",
    "    def __init__(self, df, target, n_trials=50):\n",
    "        super().__init__(df, target, n_trials)\n",
    "    def model(self, trial):\n",
    "        rf_max_depth = trial.suggest_int(\"rf_max_depth\", 2, 32, log=True)\n",
    "        model = RandomForestClassifier(max_depth=rf_max_depth, n_estimators=10)\n",
    "        return cross_val_score(model, self.X, self.y, cv=5, scoring='accuracy').mean()\n",
    "    \n",
    "    def run_model(self):\n",
    "        self.optimizer(self.model)\n",
    "        return {'best_trial': self.study.best_trial, 'trials': self.study.get_trials()}"
   ]
  },
  {
   "cell_type": "code",
   "execution_count": 7,
   "metadata": {},
   "outputs": [
    {
     "name": "stderr",
     "output_type": "stream",
     "text": [
      "[I 2024-05-28 14:52:03,058] A new study created in memory with name: no-name-77bf14c7-3314-4966-818f-6fb20b624f1a\n",
      "[I 2024-05-28 14:52:03,271] Trial 0 finished with value: 0.5711884791897452 and parameters: {'rf_max_depth': 11}. Best is trial 0 with value: 0.5711884791897452.\n",
      "[I 2024-05-28 14:52:03,438] Trial 1 finished with value: 0.5694856781136256 and parameters: {'rf_max_depth': 9}. Best is trial 0 with value: 0.5711884791897452.\n",
      "[I 2024-05-28 14:52:03,532] Trial 2 finished with value: 0.5464345624307645 and parameters: {'rf_max_depth': 2}. Best is trial 0 with value: 0.5711884791897452.\n",
      "[I 2024-05-28 14:52:03,640] Trial 3 finished with value: 0.5537173603418263 and parameters: {'rf_max_depth': 3}. Best is trial 0 with value: 0.5711884791897452.\n",
      "[I 2024-05-28 14:52:03,868] Trial 4 finished with value: 0.5959218230732711 and parameters: {'rf_max_depth': 17}. Best is trial 4 with value: 0.5959218230732711.\n",
      "[I 2024-05-28 14:52:04,023] Trial 5 finished with value: 0.5435812628580472 and parameters: {'rf_max_depth': 5}. Best is trial 4 with value: 0.5959218230732711.\n",
      "[I 2024-05-28 14:52:04,108] Trial 6 finished with value: 0.5537331856306378 and parameters: {'rf_max_depth': 2}. Best is trial 4 with value: 0.5959218230732711.\n",
      "[I 2024-05-28 14:52:04,244] Trial 7 finished with value: 0.5644342459249881 and parameters: {'rf_max_depth': 5}. Best is trial 4 with value: 0.5959218230732711.\n",
      "[I 2024-05-28 14:52:04,340] Trial 8 finished with value: 0.5565706599145435 and parameters: {'rf_max_depth': 3}. Best is trial 4 with value: 0.5959218230732711.\n",
      "[I 2024-05-28 14:52:04,442] Trial 9 finished with value: 0.5537363506884001 and parameters: {'rf_max_depth': 2}. Best is trial 4 with value: 0.5959218230732711.\n"
     ]
    },
    {
     "name": "stdout",
     "output_type": "stream",
     "text": [
      "rfc_best_value: {'best_trial': FrozenTrial(number=4, state=TrialState.COMPLETE, values=[0.5959218230732711], datetime_start=datetime.datetime(2024, 5, 28, 14, 52, 3, 640673), datetime_complete=datetime.datetime(2024, 5, 28, 14, 52, 3, 868719), params={'rf_max_depth': 17}, user_attrs={}, system_attrs={}, intermediate_values={}, distributions={'rf_max_depth': IntDistribution(high=32, log=True, low=2, step=1)}, trial_id=4, value=None), 'trials': [FrozenTrial(number=0, state=TrialState.COMPLETE, values=[0.5711884791897452], datetime_start=datetime.datetime(2024, 5, 28, 14, 52, 3, 59469), datetime_complete=datetime.datetime(2024, 5, 28, 14, 52, 3, 271718), params={'rf_max_depth': 11}, user_attrs={}, system_attrs={}, intermediate_values={}, distributions={'rf_max_depth': IntDistribution(high=32, log=True, low=2, step=1)}, trial_id=0, value=None), FrozenTrial(number=1, state=TrialState.COMPLETE, values=[0.5694856781136256], datetime_start=datetime.datetime(2024, 5, 28, 14, 52, 3, 271718), datetime_complete=datetime.datetime(2024, 5, 28, 14, 52, 3, 438259), params={'rf_max_depth': 9}, user_attrs={}, system_attrs={}, intermediate_values={}, distributions={'rf_max_depth': IntDistribution(high=32, log=True, low=2, step=1)}, trial_id=1, value=None), FrozenTrial(number=2, state=TrialState.COMPLETE, values=[0.5464345624307645], datetime_start=datetime.datetime(2024, 5, 28, 14, 52, 3, 438259), datetime_complete=datetime.datetime(2024, 5, 28, 14, 52, 3, 532287), params={'rf_max_depth': 2}, user_attrs={}, system_attrs={}, intermediate_values={}, distributions={'rf_max_depth': IntDistribution(high=32, log=True, low=2, step=1)}, trial_id=2, value=None), FrozenTrial(number=3, state=TrialState.COMPLETE, values=[0.5537173603418263], datetime_start=datetime.datetime(2024, 5, 28, 14, 52, 3, 532287), datetime_complete=datetime.datetime(2024, 5, 28, 14, 52, 3, 640673), params={'rf_max_depth': 3}, user_attrs={}, system_attrs={}, intermediate_values={}, distributions={'rf_max_depth': IntDistribution(high=32, log=True, low=2, step=1)}, trial_id=3, value=None), FrozenTrial(number=4, state=TrialState.COMPLETE, values=[0.5959218230732711], datetime_start=datetime.datetime(2024, 5, 28, 14, 52, 3, 640673), datetime_complete=datetime.datetime(2024, 5, 28, 14, 52, 3, 868719), params={'rf_max_depth': 17}, user_attrs={}, system_attrs={}, intermediate_values={}, distributions={'rf_max_depth': IntDistribution(high=32, log=True, low=2, step=1)}, trial_id=4, value=None), FrozenTrial(number=5, state=TrialState.COMPLETE, values=[0.5435812628580472], datetime_start=datetime.datetime(2024, 5, 28, 14, 52, 3, 868719), datetime_complete=datetime.datetime(2024, 5, 28, 14, 52, 4, 23368), params={'rf_max_depth': 5}, user_attrs={}, system_attrs={}, intermediate_values={}, distributions={'rf_max_depth': IntDistribution(high=32, log=True, low=2, step=1)}, trial_id=5, value=None), FrozenTrial(number=6, state=TrialState.COMPLETE, values=[0.5537331856306378], datetime_start=datetime.datetime(2024, 5, 28, 14, 52, 4, 23368), datetime_complete=datetime.datetime(2024, 5, 28, 14, 52, 4, 108211), params={'rf_max_depth': 2}, user_attrs={}, system_attrs={}, intermediate_values={}, distributions={'rf_max_depth': IntDistribution(high=32, log=True, low=2, step=1)}, trial_id=6, value=None), FrozenTrial(number=7, state=TrialState.COMPLETE, values=[0.5644342459249881], datetime_start=datetime.datetime(2024, 5, 28, 14, 52, 4, 108211), datetime_complete=datetime.datetime(2024, 5, 28, 14, 52, 4, 244102), params={'rf_max_depth': 5}, user_attrs={}, system_attrs={}, intermediate_values={}, distributions={'rf_max_depth': IntDistribution(high=32, log=True, low=2, step=1)}, trial_id=7, value=None), FrozenTrial(number=8, state=TrialState.COMPLETE, values=[0.5565706599145435], datetime_start=datetime.datetime(2024, 5, 28, 14, 52, 4, 244102), datetime_complete=datetime.datetime(2024, 5, 28, 14, 52, 4, 340933), params={'rf_max_depth': 3}, user_attrs={}, system_attrs={}, intermediate_values={}, distributions={'rf_max_depth': IntDistribution(high=32, log=True, low=2, step=1)}, trial_id=8, value=None), FrozenTrial(number=9, state=TrialState.COMPLETE, values=[0.5537363506884001], datetime_start=datetime.datetime(2024, 5, 28, 14, 52, 4, 340933), datetime_complete=datetime.datetime(2024, 5, 28, 14, 52, 4, 442103), params={'rf_max_depth': 2}, user_attrs={}, system_attrs={}, intermediate_values={}, distributions={'rf_max_depth': IntDistribution(high=32, log=True, low=2, step=1)}, trial_id=9, value=None)]}\n"
     ]
    }
   ],
   "source": [
    "# adaboost = Adaboost(df, 'Potability', n_trials=10)\n",
    "randomforest = RandomForestClf(df, 'Potability', n_trials=10)\n",
    "# ada_best_value = adaboost.run_ada()\n",
    "rfc_best_value = randomforest.run_model()\n",
    "# print(f'ada_best_value: {ada_best_value}')\n",
    "print(f'rfc_best_value: {rfc_best_value}')"
   ]
  },
  {
   "cell_type": "code",
   "execution_count": 45,
   "metadata": {},
   "outputs": [
    {
     "data": {
      "text/plain": [
       "FrozenTrial(number=7, state=TrialState.COMPLETE, values=[0.5739879727805033], datetime_start=datetime.datetime(2024, 5, 28, 14, 27, 24, 531270), datetime_complete=datetime.datetime(2024, 5, 28, 14, 27, 24, 662523), params={'rf_max_depth': 5}, user_attrs={}, system_attrs={}, intermediate_values={}, distributions={'rf_max_depth': IntDistribution(high=32, log=True, low=2, step=1)}, trial_id=7, value=None)"
      ]
     },
     "execution_count": 45,
     "metadata": {},
     "output_type": "execute_result"
    }
   ],
   "source": [
    "rfc_best_value['best_trial']"
   ]
  },
  {
   "cell_type": "code",
   "execution_count": 46,
   "metadata": {},
   "outputs": [
    {
     "data": {
      "text/plain": [
       "[FrozenTrial(number=0, state=TrialState.COMPLETE, values=[0.5728532995727172], datetime_start=datetime.datetime(2024, 5, 28, 14, 27, 23, 541265), datetime_complete=datetime.datetime(2024, 5, 28, 14, 27, 23, 731365), params={'rf_max_depth': 6}, user_attrs={}, system_attrs={}, intermediate_values={}, distributions={'rf_max_depth': IntDistribution(high=32, log=True, low=2, step=1)}, trial_id=0, value=None),\n",
       " FrozenTrial(number=1, state=TrialState.COMPLETE, values=[0.5565374268080394], datetime_start=datetime.datetime(2024, 5, 28, 14, 27, 23, 731365), datetime_complete=datetime.datetime(2024, 5, 28, 14, 27, 23, 868552), params={'rf_max_depth': 6}, user_attrs={}, system_attrs={}, intermediate_values={}, distributions={'rf_max_depth': IntDistribution(high=32, log=True, low=2, step=1)}, trial_id=1, value=None),\n",
       " FrozenTrial(number=2, state=TrialState.COMPLETE, values=[0.5593669884475393], datetime_start=datetime.datetime(2024, 5, 28, 14, 27, 23, 868552), datetime_complete=datetime.datetime(2024, 5, 28, 14, 27, 23, 948010), params={'rf_max_depth': 2}, user_attrs={}, system_attrs={}, intermediate_values={}, distributions={'rf_max_depth': IntDistribution(high=32, log=True, low=2, step=1)}, trial_id=2, value=None),\n",
       " FrozenTrial(number=3, state=TrialState.COMPLETE, values=[0.5722820066466212], datetime_start=datetime.datetime(2024, 5, 28, 14, 27, 23, 948010), datetime_complete=datetime.datetime(2024, 5, 28, 14, 27, 24, 164442), params={'rf_max_depth': 24}, user_attrs={}, system_attrs={}, intermediate_values={}, distributions={'rf_max_depth': IntDistribution(high=32, log=True, low=2, step=1)}, trial_id=3, value=None),\n",
       " FrozenTrial(number=4, state=TrialState.COMPLETE, values=[0.558240227884159], datetime_start=datetime.datetime(2024, 5, 28, 14, 27, 24, 164442), datetime_complete=datetime.datetime(2024, 5, 28, 14, 27, 24, 247864), params={'rf_max_depth': 2}, user_attrs={}, system_attrs={}, intermediate_values={}, distributions={'rf_max_depth': IntDistribution(high=32, log=True, low=2, step=1)}, trial_id=4, value=None),\n",
       " FrozenTrial(number=5, state=TrialState.COMPLETE, values=[0.5683146067415731], datetime_start=datetime.datetime(2024, 5, 28, 14, 27, 24, 247864), datetime_complete=datetime.datetime(2024, 5, 28, 14, 27, 24, 448094), params={'rf_max_depth': 16}, user_attrs={}, system_attrs={}, intermediate_values={}, distributions={'rf_max_depth': IntDistribution(high=32, log=True, low=2, step=1)}, trial_id=5, value=None),\n",
       " FrozenTrial(number=6, state=TrialState.COMPLETE, values=[0.5610634594081343], datetime_start=datetime.datetime(2024, 5, 28, 14, 27, 24, 448094), datetime_complete=datetime.datetime(2024, 5, 28, 14, 27, 24, 531270), params={'rf_max_depth': 2}, user_attrs={}, system_attrs={}, intermediate_values={}, distributions={'rf_max_depth': IntDistribution(high=32, log=True, low=2, step=1)}, trial_id=6, value=None),\n",
       " FrozenTrial(number=7, state=TrialState.COMPLETE, values=[0.5739879727805033], datetime_start=datetime.datetime(2024, 5, 28, 14, 27, 24, 531270), datetime_complete=datetime.datetime(2024, 5, 28, 14, 27, 24, 662523), params={'rf_max_depth': 5}, user_attrs={}, system_attrs={}, intermediate_values={}, distributions={'rf_max_depth': IntDistribution(high=32, log=True, low=2, step=1)}, trial_id=7, value=None),\n",
       " FrozenTrial(number=8, state=TrialState.COMPLETE, values=[0.5694651052381706], datetime_start=datetime.datetime(2024, 5, 28, 14, 27, 24, 662523), datetime_complete=datetime.datetime(2024, 5, 28, 14, 27, 24, 772782), params={'rf_max_depth': 4}, user_attrs={}, system_attrs={}, intermediate_values={}, distributions={'rf_max_depth': IntDistribution(high=32, log=True, low=2, step=1)}, trial_id=8, value=None),\n",
       " FrozenTrial(number=9, state=TrialState.COMPLETE, values=[0.5643994302896028], datetime_start=datetime.datetime(2024, 5, 28, 14, 27, 24, 772782), datetime_complete=datetime.datetime(2024, 5, 28, 14, 27, 24, 997056), params={'rf_max_depth': 22}, user_attrs={}, system_attrs={}, intermediate_values={}, distributions={'rf_max_depth': IntDistribution(high=32, log=True, low=2, step=1)}, trial_id=9, value=None)]"
      ]
     },
     "execution_count": 46,
     "metadata": {},
     "output_type": "execute_result"
    }
   ],
   "source": [
    "rfc_best_value['trials']"
   ]
  },
  {
   "cell_type": "code",
   "execution_count": 59,
   "metadata": {},
   "outputs": [],
   "source": [
    "best_trial = rfc_best_value['best_trial']"
   ]
  },
  {
   "cell_type": "code",
   "execution_count": 65,
   "metadata": {},
   "outputs": [],
   "source": [
    "best_trial_df = pd.DataFrame([{\n",
    "                            'number': best_trial.number,\n",
    "                            'value': best_trial.value,\n",
    "                            # 'state': t.state,\n",
    "                            'params': best_trial.params,\n",
    "                            'datetime_start': best_trial.datetime_start,\n",
    "                            'datetime_complete': best_trial.datetime_complete,\n",
    "                        }])\n",
    "best_params_df = best_trial_df['params'].apply(pd.Series)\n",
    "best_trial_df = pd.concat([best_trial_df.drop(columns=['params']), best_params_df], axis=1)"
   ]
  },
  {
   "cell_type": "code",
   "execution_count": 66,
   "metadata": {},
   "outputs": [
    {
     "data": {
      "text/html": [
       "<div>\n",
       "<style scoped>\n",
       "    .dataframe tbody tr th:only-of-type {\n",
       "        vertical-align: middle;\n",
       "    }\n",
       "\n",
       "    .dataframe tbody tr th {\n",
       "        vertical-align: top;\n",
       "    }\n",
       "\n",
       "    .dataframe thead th {\n",
       "        text-align: right;\n",
       "    }\n",
       "</style>\n",
       "<table border=\"1\" class=\"dataframe\">\n",
       "  <thead>\n",
       "    <tr style=\"text-align: right;\">\n",
       "      <th></th>\n",
       "      <th>number</th>\n",
       "      <th>value</th>\n",
       "      <th>datetime_start</th>\n",
       "      <th>datetime_complete</th>\n",
       "      <th>rf_max_depth</th>\n",
       "    </tr>\n",
       "  </thead>\n",
       "  <tbody>\n",
       "    <tr>\n",
       "      <th>0</th>\n",
       "      <td>7</td>\n",
       "      <td>0.573988</td>\n",
       "      <td>2024-05-28 14:27:24.531270</td>\n",
       "      <td>2024-05-28 14:27:24.662523</td>\n",
       "      <td>5</td>\n",
       "    </tr>\n",
       "  </tbody>\n",
       "</table>\n",
       "</div>"
      ],
      "text/plain": [
       "   number     value             datetime_start          datetime_complete  \\\n",
       "0       7  0.573988 2024-05-28 14:27:24.531270 2024-05-28 14:27:24.662523   \n",
       "\n",
       "   rf_max_depth  \n",
       "0             5  "
      ]
     },
     "execution_count": 66,
     "metadata": {},
     "output_type": "execute_result"
    }
   ],
   "source": [
    "best_trial_df"
   ]
  },
  {
   "cell_type": "code",
   "execution_count": 57,
   "metadata": {},
   "outputs": [],
   "source": [
    "\n",
    "trials_df = pd.DataFrame([{\n",
    "                            'number': t.number,\n",
    "                            'value': t.value,\n",
    "                            # 'state': t.state,\n",
    "                            'params': t.params,\n",
    "                            'datetime_start': t.datetime_start,\n",
    "                            'datetime_complete': t.datetime_complete,\n",
    "                        } for t in rfc_best_value['trials']])\n",
    "\n",
    "trials_params_df = trials_df['params'].apply(pd.Series)\n",
    "trials_df = pd.concat([trials_df.drop(columns=['params']), trials_params_df], axis=1)"
   ]
  },
  {
   "cell_type": "code",
   "execution_count": 58,
   "metadata": {},
   "outputs": [
    {
     "data": {
      "text/html": [
       "<div>\n",
       "<style scoped>\n",
       "    .dataframe tbody tr th:only-of-type {\n",
       "        vertical-align: middle;\n",
       "    }\n",
       "\n",
       "    .dataframe tbody tr th {\n",
       "        vertical-align: top;\n",
       "    }\n",
       "\n",
       "    .dataframe thead th {\n",
       "        text-align: right;\n",
       "    }\n",
       "</style>\n",
       "<table border=\"1\" class=\"dataframe\">\n",
       "  <thead>\n",
       "    <tr style=\"text-align: right;\">\n",
       "      <th></th>\n",
       "      <th>number</th>\n",
       "      <th>value</th>\n",
       "      <th>datetime_start</th>\n",
       "      <th>datetime_complete</th>\n",
       "      <th>rf_max_depth</th>\n",
       "    </tr>\n",
       "  </thead>\n",
       "  <tbody>\n",
       "    <tr>\n",
       "      <th>0</th>\n",
       "      <td>0</td>\n",
       "      <td>0.572853</td>\n",
       "      <td>2024-05-28 14:27:23.541265</td>\n",
       "      <td>2024-05-28 14:27:23.731365</td>\n",
       "      <td>6</td>\n",
       "    </tr>\n",
       "    <tr>\n",
       "      <th>1</th>\n",
       "      <td>1</td>\n",
       "      <td>0.556537</td>\n",
       "      <td>2024-05-28 14:27:23.731365</td>\n",
       "      <td>2024-05-28 14:27:23.868552</td>\n",
       "      <td>6</td>\n",
       "    </tr>\n",
       "    <tr>\n",
       "      <th>2</th>\n",
       "      <td>2</td>\n",
       "      <td>0.559367</td>\n",
       "      <td>2024-05-28 14:27:23.868552</td>\n",
       "      <td>2024-05-28 14:27:23.948010</td>\n",
       "      <td>2</td>\n",
       "    </tr>\n",
       "    <tr>\n",
       "      <th>3</th>\n",
       "      <td>3</td>\n",
       "      <td>0.572282</td>\n",
       "      <td>2024-05-28 14:27:23.948010</td>\n",
       "      <td>2024-05-28 14:27:24.164442</td>\n",
       "      <td>24</td>\n",
       "    </tr>\n",
       "    <tr>\n",
       "      <th>4</th>\n",
       "      <td>4</td>\n",
       "      <td>0.558240</td>\n",
       "      <td>2024-05-28 14:27:24.164442</td>\n",
       "      <td>2024-05-28 14:27:24.247864</td>\n",
       "      <td>2</td>\n",
       "    </tr>\n",
       "    <tr>\n",
       "      <th>5</th>\n",
       "      <td>5</td>\n",
       "      <td>0.568315</td>\n",
       "      <td>2024-05-28 14:27:24.247864</td>\n",
       "      <td>2024-05-28 14:27:24.448094</td>\n",
       "      <td>16</td>\n",
       "    </tr>\n",
       "    <tr>\n",
       "      <th>6</th>\n",
       "      <td>6</td>\n",
       "      <td>0.561063</td>\n",
       "      <td>2024-05-28 14:27:24.448094</td>\n",
       "      <td>2024-05-28 14:27:24.531270</td>\n",
       "      <td>2</td>\n",
       "    </tr>\n",
       "    <tr>\n",
       "      <th>7</th>\n",
       "      <td>7</td>\n",
       "      <td>0.573988</td>\n",
       "      <td>2024-05-28 14:27:24.531270</td>\n",
       "      <td>2024-05-28 14:27:24.662523</td>\n",
       "      <td>5</td>\n",
       "    </tr>\n",
       "    <tr>\n",
       "      <th>8</th>\n",
       "      <td>8</td>\n",
       "      <td>0.569465</td>\n",
       "      <td>2024-05-28 14:27:24.662523</td>\n",
       "      <td>2024-05-28 14:27:24.772782</td>\n",
       "      <td>4</td>\n",
       "    </tr>\n",
       "    <tr>\n",
       "      <th>9</th>\n",
       "      <td>9</td>\n",
       "      <td>0.564399</td>\n",
       "      <td>2024-05-28 14:27:24.772782</td>\n",
       "      <td>2024-05-28 14:27:24.997056</td>\n",
       "      <td>22</td>\n",
       "    </tr>\n",
       "  </tbody>\n",
       "</table>\n",
       "</div>"
      ],
      "text/plain": [
       "   number     value             datetime_start          datetime_complete  \\\n",
       "0       0  0.572853 2024-05-28 14:27:23.541265 2024-05-28 14:27:23.731365   \n",
       "1       1  0.556537 2024-05-28 14:27:23.731365 2024-05-28 14:27:23.868552   \n",
       "2       2  0.559367 2024-05-28 14:27:23.868552 2024-05-28 14:27:23.948010   \n",
       "3       3  0.572282 2024-05-28 14:27:23.948010 2024-05-28 14:27:24.164442   \n",
       "4       4  0.558240 2024-05-28 14:27:24.164442 2024-05-28 14:27:24.247864   \n",
       "5       5  0.568315 2024-05-28 14:27:24.247864 2024-05-28 14:27:24.448094   \n",
       "6       6  0.561063 2024-05-28 14:27:24.448094 2024-05-28 14:27:24.531270   \n",
       "7       7  0.573988 2024-05-28 14:27:24.531270 2024-05-28 14:27:24.662523   \n",
       "8       8  0.569465 2024-05-28 14:27:24.662523 2024-05-28 14:27:24.772782   \n",
       "9       9  0.564399 2024-05-28 14:27:24.772782 2024-05-28 14:27:24.997056   \n",
       "\n",
       "   rf_max_depth  \n",
       "0             6  \n",
       "1             6  \n",
       "2             2  \n",
       "3            24  \n",
       "4             2  \n",
       "5            16  \n",
       "6             2  \n",
       "7             5  \n",
       "8             4  \n",
       "9            22  "
      ]
     },
     "execution_count": 58,
     "metadata": {},
     "output_type": "execute_result"
    }
   ],
   "source": [
    "trials_df"
   ]
  },
  {
   "cell_type": "code",
   "execution_count": 30,
   "metadata": {},
   "outputs": [],
   "source": [
    "params_df = trials_df['params'].apply(pd.Series)\n",
    "result_df = pd.concat([trials_df.drop(columns=['params']), params_df], axis=1)"
   ]
  },
  {
   "cell_type": "code",
   "execution_count": 32,
   "metadata": {},
   "outputs": [
    {
     "data": {
      "text/html": [
       "<div>\n",
       "<style scoped>\n",
       "    .dataframe tbody tr th:only-of-type {\n",
       "        vertical-align: middle;\n",
       "    }\n",
       "\n",
       "    .dataframe tbody tr th {\n",
       "        vertical-align: top;\n",
       "    }\n",
       "\n",
       "    .dataframe thead th {\n",
       "        text-align: right;\n",
       "    }\n",
       "</style>\n",
       "<table border=\"1\" class=\"dataframe\">\n",
       "  <thead>\n",
       "    <tr style=\"text-align: right;\">\n",
       "      <th></th>\n",
       "      <th>number</th>\n",
       "      <th>value</th>\n",
       "      <th>state</th>\n",
       "      <th>datetime_start</th>\n",
       "      <th>datetime_complete</th>\n",
       "      <th>rf_max_depth</th>\n",
       "    </tr>\n",
       "  </thead>\n",
       "  <tbody>\n",
       "    <tr>\n",
       "      <th>0</th>\n",
       "      <td>0</td>\n",
       "      <td>0.549218</td>\n",
       "      <td>1</td>\n",
       "      <td>2024-05-28 14:14:46.941316</td>\n",
       "      <td>2024-05-28 14:14:47.053091</td>\n",
       "      <td>4</td>\n",
       "    </tr>\n",
       "    <tr>\n",
       "      <th>1</th>\n",
       "      <td>1</td>\n",
       "      <td>0.571700</td>\n",
       "      <td>1</td>\n",
       "      <td>2024-05-28 14:14:47.054089</td>\n",
       "      <td>2024-05-28 14:14:47.285862</td>\n",
       "      <td>23</td>\n",
       "    </tr>\n",
       "    <tr>\n",
       "      <th>2</th>\n",
       "      <td>2</td>\n",
       "      <td>0.558796</td>\n",
       "      <td>1</td>\n",
       "      <td>2024-05-28 14:14:47.285862</td>\n",
       "      <td>2024-05-28 14:14:47.385711</td>\n",
       "      <td>3</td>\n",
       "    </tr>\n",
       "    <tr>\n",
       "      <th>3</th>\n",
       "      <td>3</td>\n",
       "      <td>0.555390</td>\n",
       "      <td>1</td>\n",
       "      <td>2024-05-28 14:14:47.385711</td>\n",
       "      <td>2024-05-28 14:14:47.568788</td>\n",
       "      <td>9</td>\n",
       "    </tr>\n",
       "    <tr>\n",
       "      <th>4</th>\n",
       "      <td>4</td>\n",
       "      <td>0.557685</td>\n",
       "      <td>1</td>\n",
       "      <td>2024-05-28 14:14:47.568788</td>\n",
       "      <td>2024-05-28 14:14:47.684496</td>\n",
       "      <td>3</td>\n",
       "    </tr>\n",
       "    <tr>\n",
       "      <th>5</th>\n",
       "      <td>5</td>\n",
       "      <td>0.557120</td>\n",
       "      <td>1</td>\n",
       "      <td>2024-05-28 14:14:47.684496</td>\n",
       "      <td>2024-05-28 14:14:47.769038</td>\n",
       "      <td>2</td>\n",
       "    </tr>\n",
       "    <tr>\n",
       "      <th>6</th>\n",
       "      <td>6</td>\n",
       "      <td>0.559351</td>\n",
       "      <td>1</td>\n",
       "      <td>2024-05-28 14:14:47.769038</td>\n",
       "      <td>2024-05-28 14:14:47.917761</td>\n",
       "      <td>6</td>\n",
       "    </tr>\n",
       "    <tr>\n",
       "      <th>7</th>\n",
       "      <td>7</td>\n",
       "      <td>0.557672</td>\n",
       "      <td>1</td>\n",
       "      <td>2024-05-28 14:14:47.917761</td>\n",
       "      <td>2024-05-28 14:14:48.038520</td>\n",
       "      <td>3</td>\n",
       "    </tr>\n",
       "    <tr>\n",
       "      <th>8</th>\n",
       "      <td>8</td>\n",
       "      <td>0.571720</td>\n",
       "      <td>1</td>\n",
       "      <td>2024-05-28 14:14:48.039611</td>\n",
       "      <td>2024-05-28 14:14:48.269016</td>\n",
       "      <td>14</td>\n",
       "    </tr>\n",
       "    <tr>\n",
       "      <th>9</th>\n",
       "      <td>9</td>\n",
       "      <td>0.562163</td>\n",
       "      <td>1</td>\n",
       "      <td>2024-05-28 14:14:48.269016</td>\n",
       "      <td>2024-05-28 14:14:48.498368</td>\n",
       "      <td>14</td>\n",
       "    </tr>\n",
       "  </tbody>\n",
       "</table>\n",
       "</div>"
      ],
      "text/plain": [
       "   number     value  state             datetime_start  \\\n",
       "0       0  0.549218      1 2024-05-28 14:14:46.941316   \n",
       "1       1  0.571700      1 2024-05-28 14:14:47.054089   \n",
       "2       2  0.558796      1 2024-05-28 14:14:47.285862   \n",
       "3       3  0.555390      1 2024-05-28 14:14:47.385711   \n",
       "4       4  0.557685      1 2024-05-28 14:14:47.568788   \n",
       "5       5  0.557120      1 2024-05-28 14:14:47.684496   \n",
       "6       6  0.559351      1 2024-05-28 14:14:47.769038   \n",
       "7       7  0.557672      1 2024-05-28 14:14:47.917761   \n",
       "8       8  0.571720      1 2024-05-28 14:14:48.039611   \n",
       "9       9  0.562163      1 2024-05-28 14:14:48.269016   \n",
       "\n",
       "           datetime_complete  rf_max_depth  \n",
       "0 2024-05-28 14:14:47.053091             4  \n",
       "1 2024-05-28 14:14:47.285862            23  \n",
       "2 2024-05-28 14:14:47.385711             3  \n",
       "3 2024-05-28 14:14:47.568788             9  \n",
       "4 2024-05-28 14:14:47.684496             3  \n",
       "5 2024-05-28 14:14:47.769038             2  \n",
       "6 2024-05-28 14:14:47.917761             6  \n",
       "7 2024-05-28 14:14:48.038520             3  \n",
       "8 2024-05-28 14:14:48.269016            14  \n",
       "9 2024-05-28 14:14:48.498368            14  "
      ]
     },
     "execution_count": 32,
     "metadata": {},
     "output_type": "execute_result"
    }
   ],
   "source": [
    "result_df"
   ]
  },
  {
   "cell_type": "code",
   "execution_count": 14,
   "metadata": {},
   "outputs": [
    {
     "data": {
      "text/plain": [
       "0.5852160151922773"
      ]
     },
     "execution_count": 14,
     "metadata": {},
     "output_type": "execute_result"
    }
   ],
   "source": [
    "rfc_best_value['best_value']"
   ]
  },
  {
   "cell_type": "code",
   "execution_count": null,
   "metadata": {},
   "outputs": [],
   "source": [
    "PATH = 'F:\\industry\\data\\clf_data\\Test_02.csv'\n",
    "df = pd.read_csv(PATH)\n",
    "# X = df.drop('Potability', axis=1)\n",
    "# y = df['Potability']\n",
    "\n",
    "# result = RegressionCurv(X, y).train_reg()\n",
    "# print(result)\n",
    "\n",
    "class Classification:\n",
    "    def __init__(self, df, target, n_trials=100):\n",
    "        self.df = df\n",
    "        self.target = target\n",
    "        self.n_trials = n_trials\n",
    "        self.X = df.drop(target, axis=1)\n",
    "        self.y = df[target]\n",
    "        self.study = optuna.create_study(direction=\"maximize\")\n",
    "    \n",
    "    def validation(self, model, X, y):\n",
    "        accuracy, precision, recall, fscore = cross_val_score(model, X, y, n_jobs=-1, cv=3), cross_val_score(model, X, y, n_jobs=-1, cv=3), cross_val_score(model, X, y, n_jobs=-1, cv=3), cross_val_score(model, X, y, n_jobs=-1, cv=3)\n",
    "        return accuracy.mean(), precision.mean(), recall.mean(), fscore.mean()\n",
    "\n",
    "    def rfc_train(self, trial):\n",
    "        rf_max_depth = trial.suggest_int(\"rf_max_depth\", 2, 32, log=True)\n",
    "        model = RandomForestClassifier(max_depth=rf_max_depth, n_estimators=10)\n",
    "        score = cross_val_score(model, self.X, self.y, n_jobs=-1, cv=3, scoring='accuracy')\n",
    "        return score.mean()\n",
    "    \n",
    "    def optimizer(self):\n",
    "        study = self.study\n",
    "        study.optimize(self.rfc_train, n_trials=self.n_trials)  "
   ]
  },
  {
   "cell_type": "code",
   "execution_count": null,
   "metadata": {},
   "outputs": [],
   "source": [
    "adaboost = Adaboost(df, 'Potability', n_trials=10)\n",
    "ada_best_value = adaboost.run_model()\n",
    "print(f'ada_best_value: {ada_best_value}')"
   ]
  },
  {
   "cell_type": "code",
   "execution_count": null,
   "metadata": {},
   "outputs": [],
   "source": [
    "class Adaboost(Datasets):\n",
    "    def __init__(self, df, target, n_trials=10):\n",
    "        super().__init__(df, target, n_trials)\n",
    "\n",
    "    def model(self, trial):\n",
    "        n_estimators = trial.suggest_int('n_estimators', 50, 300)\n",
    "        learning_rate = trial.suggest_float('learning_rate', 0.01, 1.0)\n",
    "        # max_depth = trial.suggest_int('max_depth', 1, 10)\n",
    "        model = AdaBoostClassifier(n_estimators=n_estimators, learning_rate=learning_rate, algorithm='SAMME') # estimator=DecisionTreeClassifier(max_depth=max_depth),\n",
    "        return cross_val_score(model, self.X, self.y, cv=5, scoring='accuracy').mean()\n",
    "    \n",
    "    def run_model(self):\n",
    "        self.optimizer(self.model)\n",
    "        return self.study.best_value\n",
    "\n",
    "class RandomForestClf(Datasets):\n",
    "    def __init__(self, df, target, n_trials=50):\n",
    "        super().__init__(df, target, n_trials)\n",
    "    def model(self, trial):\n",
    "        rf_max_depth = trial.suggest_int(\"rf_max_depth\", 2, 32, log=True)\n",
    "        model = RandomForestClassifier(max_depth=rf_max_depth, n_estimators=10)\n",
    "        return cross_val_score(model, self.X, self.y, cv=5, scoring='accuracy').mean()\n",
    "    \n",
    "    def run_model(self):\n",
    "        self.optimizer(self.model)\n",
    "        return {'best_value': self.study.best_value, 'trial_df': self.study.trials_dataframe()}"
   ]
  },
  {
   "cell_type": "code",
   "execution_count": 46,
   "metadata": {},
   "outputs": [
    {
     "name": "stderr",
     "output_type": "stream",
     "text": [
      "[I 2024-05-27 16:23:54,958] A new study created in memory with name: no-name-9f95a261-0e3e-4116-9b16-e2050b136465\n",
      "[I 2024-05-27 16:23:54,960] A new study created in memory with name: no-name-48cd028d-0fbb-4e14-83e2-6899d00d6888\n",
      "[I 2024-05-27 16:23:57,092] Trial 0 finished with value: 0.5436176610223137 and parameters: {'n_estimators': 171, 'learning_rate': 0.33412225726842276}. Best is trial 0 with value: 0.5436176610223137.\n",
      "[I 2024-05-27 16:24:00,579] Trial 1 finished with value: 0.535733502136414 and parameters: {'n_estimators': 284, 'learning_rate': 0.4143433658435334}. Best is trial 0 with value: 0.5436176610223137.\n",
      "[I 2024-05-27 16:24:02,326] Trial 2 finished with value: 0.529541066624466 and parameters: {'n_estimators': 144, 'learning_rate': 0.4168488293062517}. Best is trial 0 with value: 0.5436176610223137.\n",
      "[I 2024-05-27 16:24:05,232] Trial 3 finished with value: 0.550925779395474 and parameters: {'n_estimators': 226, 'learning_rate': 0.18694846053767988}. Best is trial 3 with value: 0.550925779395474.\n",
      "[I 2024-05-27 16:24:08,835] Trial 4 finished with value: 0.5616205095742999 and parameters: {'n_estimators': 282, 'learning_rate': 0.02015359453793646}. Best is trial 4 with value: 0.5616205095742999.\n",
      "[I 2024-05-27 16:24:12,196] Trial 5 finished with value: 0.5272812153821806 and parameters: {'n_estimators': 272, 'learning_rate': 0.6175505617986479}. Best is trial 4 with value: 0.5616205095742999.\n",
      "[I 2024-05-27 16:24:12,829] Trial 6 finished with value: 0.5430606108561482 and parameters: {'n_estimators': 52, 'learning_rate': 0.6468695949991297}. Best is trial 4 with value: 0.5616205095742999.\n",
      "[I 2024-05-27 16:24:15,518] Trial 7 finished with value: 0.5205333122329483 and parameters: {'n_estimators': 225, 'learning_rate': 0.7495527722005701}. Best is trial 4 with value: 0.5616205095742999.\n",
      "[I 2024-05-27 16:24:16,920] Trial 8 finished with value: 0.5205364772907105 and parameters: {'n_estimators': 117, 'learning_rate': 0.7837938543612923}. Best is trial 4 with value: 0.5616205095742999.\n",
      "[I 2024-05-27 16:24:19,028] Trial 9 finished with value: 0.550925779395474 and parameters: {'n_estimators': 176, 'learning_rate': 0.23732708441783248}. Best is trial 4 with value: 0.5616205095742999.\n"
     ]
    },
    {
     "data": {
      "text/plain": [
       "0.5616205095742999"
      ]
     },
     "execution_count": 46,
     "metadata": {},
     "output_type": "execute_result"
    }
   ],
   "source": [
    "adaboost = Adaboost(df, 'Potability', n_trials=10)\n",
    "adaboost.run_ada()"
   ]
  },
  {
   "cell_type": "code",
   "execution_count": 44,
   "metadata": {},
   "outputs": [
    {
     "name": "stderr",
     "output_type": "stream",
     "text": [
      "[I 2024-05-27 16:10:43,550] A new study created in memory with name: no-name-546dc043-eb14-42ec-80da-8680c4060585\n",
      "c:\\Users\\PCN\\anaconda3\\envs\\dev1\\lib\\site-packages\\sklearn\\ensemble\\_weight_boosting.py:519: FutureWarning: The SAMME.R algorithm (the default) is deprecated and will be removed in 1.6. Use the SAMME algorithm to circumvent this warning.\n",
      "  warnings.warn(\n",
      "c:\\Users\\PCN\\anaconda3\\envs\\dev1\\lib\\site-packages\\sklearn\\ensemble\\_weight_boosting.py:519: FutureWarning: The SAMME.R algorithm (the default) is deprecated and will be removed in 1.6. Use the SAMME algorithm to circumvent this warning.\n",
      "  warnings.warn(\n",
      "c:\\Users\\PCN\\anaconda3\\envs\\dev1\\lib\\site-packages\\sklearn\\ensemble\\_weight_boosting.py:519: FutureWarning: The SAMME.R algorithm (the default) is deprecated and will be removed in 1.6. Use the SAMME algorithm to circumvent this warning.\n",
      "  warnings.warn(\n",
      "c:\\Users\\PCN\\anaconda3\\envs\\dev1\\lib\\site-packages\\sklearn\\ensemble\\_weight_boosting.py:519: FutureWarning: The SAMME.R algorithm (the default) is deprecated and will be removed in 1.6. Use the SAMME algorithm to circumvent this warning.\n",
      "  warnings.warn(\n",
      "c:\\Users\\PCN\\anaconda3\\envs\\dev1\\lib\\site-packages\\sklearn\\ensemble\\_weight_boosting.py:519: FutureWarning: The SAMME.R algorithm (the default) is deprecated and will be removed in 1.6. Use the SAMME algorithm to circumvent this warning.\n",
      "  warnings.warn(\n",
      "[I 2024-05-27 16:10:46,825] Trial 0 finished with value: 0.5064757081816744 and parameters: {'n_estimators': 253, 'learning_rate': 0.3440911857664204}. Best is trial 0 with value: 0.5064757081816744.\n",
      "c:\\Users\\PCN\\anaconda3\\envs\\dev1\\lib\\site-packages\\sklearn\\ensemble\\_weight_boosting.py:519: FutureWarning: The SAMME.R algorithm (the default) is deprecated and will be removed in 1.6. Use the SAMME algorithm to circumvent this warning.\n",
      "  warnings.warn(\n",
      "c:\\Users\\PCN\\anaconda3\\envs\\dev1\\lib\\site-packages\\sklearn\\ensemble\\_weight_boosting.py:519: FutureWarning: The SAMME.R algorithm (the default) is deprecated and will be removed in 1.6. Use the SAMME algorithm to circumvent this warning.\n",
      "  warnings.warn(\n",
      "c:\\Users\\PCN\\anaconda3\\envs\\dev1\\lib\\site-packages\\sklearn\\ensemble\\_weight_boosting.py:519: FutureWarning: The SAMME.R algorithm (the default) is deprecated and will be removed in 1.6. Use the SAMME algorithm to circumvent this warning.\n",
      "  warnings.warn(\n",
      "c:\\Users\\PCN\\anaconda3\\envs\\dev1\\lib\\site-packages\\sklearn\\ensemble\\_weight_boosting.py:519: FutureWarning: The SAMME.R algorithm (the default) is deprecated and will be removed in 1.6. Use the SAMME algorithm to circumvent this warning.\n",
      "  warnings.warn(\n",
      "c:\\Users\\PCN\\anaconda3\\envs\\dev1\\lib\\site-packages\\sklearn\\ensemble\\_weight_boosting.py:519: FutureWarning: The SAMME.R algorithm (the default) is deprecated and will be removed in 1.6. Use the SAMME algorithm to circumvent this warning.\n",
      "  warnings.warn(\n",
      "[I 2024-05-27 16:10:49,575] Trial 1 finished with value: 0.49802816901408453 and parameters: {'n_estimators': 212, 'learning_rate': 0.5700030920328235}. Best is trial 0 with value: 0.5064757081816744.\n",
      "c:\\Users\\PCN\\anaconda3\\envs\\dev1\\lib\\site-packages\\sklearn\\ensemble\\_weight_boosting.py:519: FutureWarning: The SAMME.R algorithm (the default) is deprecated and will be removed in 1.6. Use the SAMME algorithm to circumvent this warning.\n",
      "  warnings.warn(\n",
      "c:\\Users\\PCN\\anaconda3\\envs\\dev1\\lib\\site-packages\\sklearn\\ensemble\\_weight_boosting.py:519: FutureWarning: The SAMME.R algorithm (the default) is deprecated and will be removed in 1.6. Use the SAMME algorithm to circumvent this warning.\n",
      "  warnings.warn(\n",
      "c:\\Users\\PCN\\anaconda3\\envs\\dev1\\lib\\site-packages\\sklearn\\ensemble\\_weight_boosting.py:519: FutureWarning: The SAMME.R algorithm (the default) is deprecated and will be removed in 1.6. Use the SAMME algorithm to circumvent this warning.\n",
      "  warnings.warn(\n",
      "c:\\Users\\PCN\\anaconda3\\envs\\dev1\\lib\\site-packages\\sklearn\\ensemble\\_weight_boosting.py:519: FutureWarning: The SAMME.R algorithm (the default) is deprecated and will be removed in 1.6. Use the SAMME algorithm to circumvent this warning.\n",
      "  warnings.warn(\n",
      "c:\\Users\\PCN\\anaconda3\\envs\\dev1\\lib\\site-packages\\sklearn\\ensemble\\_weight_boosting.py:519: FutureWarning: The SAMME.R algorithm (the default) is deprecated and will be removed in 1.6. Use the SAMME algorithm to circumvent this warning.\n",
      "  warnings.warn(\n",
      "[I 2024-05-27 16:10:51,228] Trial 2 finished with value: 0.5104082924513372 and parameters: {'n_estimators': 126, 'learning_rate': 0.993424146736791}. Best is trial 2 with value: 0.5104082924513372.\n",
      "c:\\Users\\PCN\\anaconda3\\envs\\dev1\\lib\\site-packages\\sklearn\\ensemble\\_weight_boosting.py:519: FutureWarning: The SAMME.R algorithm (the default) is deprecated and will be removed in 1.6. Use the SAMME algorithm to circumvent this warning.\n",
      "  warnings.warn(\n",
      "c:\\Users\\PCN\\anaconda3\\envs\\dev1\\lib\\site-packages\\sklearn\\ensemble\\_weight_boosting.py:519: FutureWarning: The SAMME.R algorithm (the default) is deprecated and will be removed in 1.6. Use the SAMME algorithm to circumvent this warning.\n",
      "  warnings.warn(\n",
      "c:\\Users\\PCN\\anaconda3\\envs\\dev1\\lib\\site-packages\\sklearn\\ensemble\\_weight_boosting.py:519: FutureWarning: The SAMME.R algorithm (the default) is deprecated and will be removed in 1.6. Use the SAMME algorithm to circumvent this warning.\n",
      "  warnings.warn(\n",
      "c:\\Users\\PCN\\anaconda3\\envs\\dev1\\lib\\site-packages\\sklearn\\ensemble\\_weight_boosting.py:519: FutureWarning: The SAMME.R algorithm (the default) is deprecated and will be removed in 1.6. Use the SAMME algorithm to circumvent this warning.\n",
      "  warnings.warn(\n",
      "c:\\Users\\PCN\\anaconda3\\envs\\dev1\\lib\\site-packages\\sklearn\\ensemble\\_weight_boosting.py:519: FutureWarning: The SAMME.R algorithm (the default) is deprecated and will be removed in 1.6. Use the SAMME algorithm to circumvent this warning.\n",
      "  warnings.warn(\n",
      "[I 2024-05-27 16:10:54,087] Trial 3 finished with value: 0.4986010444690615 and parameters: {'n_estimators': 222, 'learning_rate': 0.33599614462652594}. Best is trial 2 with value: 0.5104082924513372.\n",
      "c:\\Users\\PCN\\anaconda3\\envs\\dev1\\lib\\site-packages\\sklearn\\ensemble\\_weight_boosting.py:519: FutureWarning: The SAMME.R algorithm (the default) is deprecated and will be removed in 1.6. Use the SAMME algorithm to circumvent this warning.\n",
      "  warnings.warn(\n",
      "c:\\Users\\PCN\\anaconda3\\envs\\dev1\\lib\\site-packages\\sklearn\\ensemble\\_weight_boosting.py:519: FutureWarning: The SAMME.R algorithm (the default) is deprecated and will be removed in 1.6. Use the SAMME algorithm to circumvent this warning.\n",
      "  warnings.warn(\n",
      "c:\\Users\\PCN\\anaconda3\\envs\\dev1\\lib\\site-packages\\sklearn\\ensemble\\_weight_boosting.py:519: FutureWarning: The SAMME.R algorithm (the default) is deprecated and will be removed in 1.6. Use the SAMME algorithm to circumvent this warning.\n",
      "  warnings.warn(\n",
      "c:\\Users\\PCN\\anaconda3\\envs\\dev1\\lib\\site-packages\\sklearn\\ensemble\\_weight_boosting.py:519: FutureWarning: The SAMME.R algorithm (the default) is deprecated and will be removed in 1.6. Use the SAMME algorithm to circumvent this warning.\n",
      "  warnings.warn(\n",
      "c:\\Users\\PCN\\anaconda3\\envs\\dev1\\lib\\site-packages\\sklearn\\ensemble\\_weight_boosting.py:519: FutureWarning: The SAMME.R algorithm (the default) is deprecated and will be removed in 1.6. Use the SAMME algorithm to circumvent this warning.\n",
      "  warnings.warn(\n",
      "[I 2024-05-27 16:10:57,703] Trial 4 finished with value: 0.5064630479506251 and parameters: {'n_estimators': 280, 'learning_rate': 0.5964760664670008}. Best is trial 2 with value: 0.5104082924513372.\n",
      "c:\\Users\\PCN\\anaconda3\\envs\\dev1\\lib\\site-packages\\sklearn\\ensemble\\_weight_boosting.py:519: FutureWarning: The SAMME.R algorithm (the default) is deprecated and will be removed in 1.6. Use the SAMME algorithm to circumvent this warning.\n",
      "  warnings.warn(\n",
      "c:\\Users\\PCN\\anaconda3\\envs\\dev1\\lib\\site-packages\\sklearn\\ensemble\\_weight_boosting.py:519: FutureWarning: The SAMME.R algorithm (the default) is deprecated and will be removed in 1.6. Use the SAMME algorithm to circumvent this warning.\n",
      "  warnings.warn(\n",
      "c:\\Users\\PCN\\anaconda3\\envs\\dev1\\lib\\site-packages\\sklearn\\ensemble\\_weight_boosting.py:519: FutureWarning: The SAMME.R algorithm (the default) is deprecated and will be removed in 1.6. Use the SAMME algorithm to circumvent this warning.\n",
      "  warnings.warn(\n",
      "c:\\Users\\PCN\\anaconda3\\envs\\dev1\\lib\\site-packages\\sklearn\\ensemble\\_weight_boosting.py:519: FutureWarning: The SAMME.R algorithm (the default) is deprecated and will be removed in 1.6. Use the SAMME algorithm to circumvent this warning.\n",
      "  warnings.warn(\n",
      "c:\\Users\\PCN\\anaconda3\\envs\\dev1\\lib\\site-packages\\sklearn\\ensemble\\_weight_boosting.py:519: FutureWarning: The SAMME.R algorithm (the default) is deprecated and will be removed in 1.6. Use the SAMME algorithm to circumvent this warning.\n",
      "  warnings.warn(\n",
      "[I 2024-05-27 16:11:00,899] Trial 5 finished with value: 0.5030764361449597 and parameters: {'n_estimators': 251, 'learning_rate': 0.7402163657845209}. Best is trial 2 with value: 0.5104082924513372.\n",
      "c:\\Users\\PCN\\anaconda3\\envs\\dev1\\lib\\site-packages\\sklearn\\ensemble\\_weight_boosting.py:519: FutureWarning: The SAMME.R algorithm (the default) is deprecated and will be removed in 1.6. Use the SAMME algorithm to circumvent this warning.\n",
      "  warnings.warn(\n",
      "c:\\Users\\PCN\\anaconda3\\envs\\dev1\\lib\\site-packages\\sklearn\\ensemble\\_weight_boosting.py:519: FutureWarning: The SAMME.R algorithm (the default) is deprecated and will be removed in 1.6. Use the SAMME algorithm to circumvent this warning.\n",
      "  warnings.warn(\n",
      "c:\\Users\\PCN\\anaconda3\\envs\\dev1\\lib\\site-packages\\sklearn\\ensemble\\_weight_boosting.py:519: FutureWarning: The SAMME.R algorithm (the default) is deprecated and will be removed in 1.6. Use the SAMME algorithm to circumvent this warning.\n",
      "  warnings.warn(\n",
      "c:\\Users\\PCN\\anaconda3\\envs\\dev1\\lib\\site-packages\\sklearn\\ensemble\\_weight_boosting.py:519: FutureWarning: The SAMME.R algorithm (the default) is deprecated and will be removed in 1.6. Use the SAMME algorithm to circumvent this warning.\n",
      "  warnings.warn(\n",
      "c:\\Users\\PCN\\anaconda3\\envs\\dev1\\lib\\site-packages\\sklearn\\ensemble\\_weight_boosting.py:519: FutureWarning: The SAMME.R algorithm (the default) is deprecated and will be removed in 1.6. Use the SAMME algorithm to circumvent this warning.\n",
      "  warnings.warn(\n",
      "[I 2024-05-27 16:11:02,661] Trial 6 finished with value: 0.5228042411774014 and parameters: {'n_estimators': 133, 'learning_rate': 0.1964324674080677}. Best is trial 6 with value: 0.5228042411774014.\n",
      "c:\\Users\\PCN\\anaconda3\\envs\\dev1\\lib\\site-packages\\sklearn\\ensemble\\_weight_boosting.py:519: FutureWarning: The SAMME.R algorithm (the default) is deprecated and will be removed in 1.6. Use the SAMME algorithm to circumvent this warning.\n",
      "  warnings.warn(\n",
      "c:\\Users\\PCN\\anaconda3\\envs\\dev1\\lib\\site-packages\\sklearn\\ensemble\\_weight_boosting.py:519: FutureWarning: The SAMME.R algorithm (the default) is deprecated and will be removed in 1.6. Use the SAMME algorithm to circumvent this warning.\n",
      "  warnings.warn(\n",
      "c:\\Users\\PCN\\anaconda3\\envs\\dev1\\lib\\site-packages\\sklearn\\ensemble\\_weight_boosting.py:519: FutureWarning: The SAMME.R algorithm (the default) is deprecated and will be removed in 1.6. Use the SAMME algorithm to circumvent this warning.\n",
      "  warnings.warn(\n",
      "c:\\Users\\PCN\\anaconda3\\envs\\dev1\\lib\\site-packages\\sklearn\\ensemble\\_weight_boosting.py:519: FutureWarning: The SAMME.R algorithm (the default) is deprecated and will be removed in 1.6. Use the SAMME algorithm to circumvent this warning.\n",
      "  warnings.warn(\n",
      "c:\\Users\\PCN\\anaconda3\\envs\\dev1\\lib\\site-packages\\sklearn\\ensemble\\_weight_boosting.py:519: FutureWarning: The SAMME.R algorithm (the default) is deprecated and will be removed in 1.6. Use the SAMME algorithm to circumvent this warning.\n",
      "  warnings.warn(\n",
      "[I 2024-05-27 16:11:04,610] Trial 7 finished with value: 0.5075818958695997 and parameters: {'n_estimators': 144, 'learning_rate': 0.9414058475192155}. Best is trial 6 with value: 0.5228042411774014.\n",
      "c:\\Users\\PCN\\anaconda3\\envs\\dev1\\lib\\site-packages\\sklearn\\ensemble\\_weight_boosting.py:519: FutureWarning: The SAMME.R algorithm (the default) is deprecated and will be removed in 1.6. Use the SAMME algorithm to circumvent this warning.\n",
      "  warnings.warn(\n",
      "c:\\Users\\PCN\\anaconda3\\envs\\dev1\\lib\\site-packages\\sklearn\\ensemble\\_weight_boosting.py:519: FutureWarning: The SAMME.R algorithm (the default) is deprecated and will be removed in 1.6. Use the SAMME algorithm to circumvent this warning.\n",
      "  warnings.warn(\n",
      "c:\\Users\\PCN\\anaconda3\\envs\\dev1\\lib\\site-packages\\sklearn\\ensemble\\_weight_boosting.py:519: FutureWarning: The SAMME.R algorithm (the default) is deprecated and will be removed in 1.6. Use the SAMME algorithm to circumvent this warning.\n",
      "  warnings.warn(\n",
      "c:\\Users\\PCN\\anaconda3\\envs\\dev1\\lib\\site-packages\\sklearn\\ensemble\\_weight_boosting.py:519: FutureWarning: The SAMME.R algorithm (the default) is deprecated and will be removed in 1.6. Use the SAMME algorithm to circumvent this warning.\n",
      "  warnings.warn(\n",
      "c:\\Users\\PCN\\anaconda3\\envs\\dev1\\lib\\site-packages\\sklearn\\ensemble\\_weight_boosting.py:519: FutureWarning: The SAMME.R algorithm (the default) is deprecated and will be removed in 1.6. Use the SAMME algorithm to circumvent this warning.\n",
      "  warnings.warn(\n",
      "[I 2024-05-27 16:11:07,948] Trial 8 finished with value: 0.5059170754866276 and parameters: {'n_estimators': 254, 'learning_rate': 0.3054653718184221}. Best is trial 6 with value: 0.5228042411774014.\n",
      "c:\\Users\\PCN\\anaconda3\\envs\\dev1\\lib\\site-packages\\sklearn\\ensemble\\_weight_boosting.py:519: FutureWarning: The SAMME.R algorithm (the default) is deprecated and will be removed in 1.6. Use the SAMME algorithm to circumvent this warning.\n",
      "  warnings.warn(\n",
      "c:\\Users\\PCN\\anaconda3\\envs\\dev1\\lib\\site-packages\\sklearn\\ensemble\\_weight_boosting.py:519: FutureWarning: The SAMME.R algorithm (the default) is deprecated and will be removed in 1.6. Use the SAMME algorithm to circumvent this warning.\n",
      "  warnings.warn(\n",
      "c:\\Users\\PCN\\anaconda3\\envs\\dev1\\lib\\site-packages\\sklearn\\ensemble\\_weight_boosting.py:519: FutureWarning: The SAMME.R algorithm (the default) is deprecated and will be removed in 1.6. Use the SAMME algorithm to circumvent this warning.\n",
      "  warnings.warn(\n",
      "c:\\Users\\PCN\\anaconda3\\envs\\dev1\\lib\\site-packages\\sklearn\\ensemble\\_weight_boosting.py:519: FutureWarning: The SAMME.R algorithm (the default) is deprecated and will be removed in 1.6. Use the SAMME algorithm to circumvent this warning.\n",
      "  warnings.warn(\n",
      "c:\\Users\\PCN\\anaconda3\\envs\\dev1\\lib\\site-packages\\sklearn\\ensemble\\_weight_boosting.py:519: FutureWarning: The SAMME.R algorithm (the default) is deprecated and will be removed in 1.6. Use the SAMME algorithm to circumvent this warning.\n",
      "  warnings.warn(\n",
      "[I 2024-05-27 16:11:11,306] Trial 9 finished with value: 0.5227915809463524 and parameters: {'n_estimators': 258, 'learning_rate': 0.07436702320985208}. Best is trial 6 with value: 0.5228042411774014.\n"
     ]
    }
   ],
   "source": [
    "adaboost = Adaboost(df, 'Potability', n_trials=10)\n",
    "adaboost.optimizer(adaboost.ada)"
   ]
  },
  {
   "cell_type": "code",
   "execution_count": 40,
   "metadata": {},
   "outputs": [
    {
     "data": {
      "text/plain": [
       "{'n_estimators': 52, 'learning_rate': 0.6151340948900165}"
      ]
     },
     "execution_count": 40,
     "metadata": {},
     "output_type": "execute_result"
    }
   ],
   "source": [
    "adaboost.study.best_params"
   ]
  },
  {
   "cell_type": "code",
   "execution_count": 41,
   "metadata": {},
   "outputs": [
    {
     "data": {
      "text/plain": [
       "FrozenTrial(number=2, state=TrialState.COMPLETE, values=[0.5430606108561482], datetime_start=datetime.datetime(2024, 5, 27, 16, 9, 25, 955296), datetime_complete=datetime.datetime(2024, 5, 27, 16, 9, 26, 648943), params={'n_estimators': 52, 'learning_rate': 0.6151340948900165}, user_attrs={}, system_attrs={}, intermediate_values={}, distributions={'n_estimators': IntDistribution(high=300, log=False, low=50, step=1), 'learning_rate': FloatDistribution(high=1.0, log=False, low=0.01, step=None)}, trial_id=2, value=None)"
      ]
     },
     "execution_count": 41,
     "metadata": {},
     "output_type": "execute_result"
    }
   ],
   "source": [
    "adaboost.study.best_trial"
   ]
  },
  {
   "cell_type": "code",
   "execution_count": 42,
   "metadata": {},
   "outputs": [
    {
     "data": {
      "text/plain": [
       "0.5430606108561482"
      ]
     },
     "execution_count": 42,
     "metadata": {},
     "output_type": "execute_result"
    }
   ],
   "source": [
    "adaboost.study.best_value"
   ]
  },
  {
   "cell_type": "code",
   "execution_count": 15,
   "metadata": {},
   "outputs": [
    {
     "data": {
      "text/plain": [
       "0.605485544566489"
      ]
     },
     "execution_count": 15,
     "metadata": {},
     "output_type": "execute_result"
    }
   ],
   "source": [
    "model.study.best_value"
   ]
  },
  {
   "cell_type": "code",
   "execution_count": 16,
   "metadata": {},
   "outputs": [
    {
     "data": {
      "text/plain": [
       "100"
      ]
     },
     "execution_count": 16,
     "metadata": {},
     "output_type": "execute_result"
    }
   ],
   "source": [
    "len(model.study.get_trials())"
   ]
  },
  {
   "cell_type": "code",
   "execution_count": 17,
   "metadata": {},
   "outputs": [
    {
     "data": {
      "text/plain": [
       "FrozenTrial(number=39, state=TrialState.COMPLETE, values=[0.605485544566489], datetime_start=datetime.datetime(2024, 5, 27, 15, 45, 43, 451935), datetime_complete=datetime.datetime(2024, 5, 27, 15, 45, 43, 512847), params={'rf_max_depth': 28}, user_attrs={}, system_attrs={}, intermediate_values={}, distributions={'rf_max_depth': IntDistribution(high=32, log=True, low=2, step=1)}, trial_id=39, value=None)"
      ]
     },
     "execution_count": 17,
     "metadata": {},
     "output_type": "execute_result"
    }
   ],
   "source": [
    "model.study.best_trial"
   ]
  },
  {
   "cell_type": "code",
   "execution_count": 18,
   "metadata": {},
   "outputs": [
    {
     "data": {
      "text/plain": [
       "[FrozenTrial(number=39, state=TrialState.COMPLETE, values=[0.605485544566489], datetime_start=datetime.datetime(2024, 5, 27, 15, 45, 43, 451935), datetime_complete=datetime.datetime(2024, 5, 27, 15, 45, 43, 512847), params={'rf_max_depth': 28}, user_attrs={}, system_attrs={}, intermediate_values={}, distributions={'rf_max_depth': IntDistribution(high=32, log=True, low=2, step=1)}, trial_id=39, value=None)]"
      ]
     },
     "execution_count": 18,
     "metadata": {},
     "output_type": "execute_result"
    }
   ],
   "source": [
    "model.study.best_trials"
   ]
  },
  {
   "cell_type": "code",
   "execution_count": null,
   "metadata": {},
   "outputs": [],
   "source": []
  },
  {
   "cell_type": "code",
   "execution_count": 45,
   "metadata": {},
   "outputs": [],
   "source": [
    "PATH = 'F:\\industry\\data\\clf_data\\Test_02.csv'\n",
    "df = pd.read_csv(PATH)\n",
    "# X = df.drop('Potability', axis=1)\n",
    "# y = df['Potability']\n",
    "\n",
    "# result = RegressionCurv(X, y).train_reg()\n",
    "# print(result)\n",
    "\n",
    "class Classification:\n",
    "    def __init__(self, df, target, n_trials=100):\n",
    "        self.df = df\n",
    "        self.target = target\n",
    "        self.n_trials = n_trials\n",
    "        self.study = optuna.create_study(direction=\"maximize\")\n",
    "\n",
    "    def train_test_set(self):\n",
    "        df = self.df\n",
    "        target = self.target\n",
    "        X = df.drop(target, axis=1)\n",
    "        y = df[target]\n",
    "        X_train, X_test, y_train, y_test = train_test_split(X, y, test_size=0.2, random_state=42)\n",
    "        return X_train, X_test, y_train, y_test\n",
    "    \n",
    "    def train_val_set(self):\n",
    "        X_train, X_test, y_train, y_test = self.train_test_set()\n",
    "        X_train, X_val, y_train, y_val = train_test_split(X_train, y_train, test_size=0.2, random_state=42)\n",
    "        return X_train, X_val, y_train, y_val\n",
    "    \n",
    "    def accuracy_precision_recall_fscore(self, y_true, y_pred):\n",
    "        accuracy, precision, recall, fscore = accuracy_score(y_true, y_pred), precision_score(y_true, y_pred, average='weighted'), recall_score(y_true, y_pred, average='weighted'), f1_score(y_true, y_pred, average='weighted') \n",
    "        return accuracy, precision, recall, fscore\n",
    "    \n",
    "    def rfc_train(self, trial):\n",
    "        X_train, X_test, y_train, y_test = self.train_test_set()\n",
    "        X_train, X_val, y_train, y_val = self.train_val_set()\n",
    "        \n",
    "        rf_max_depth = trial.suggest_int(\"rf_max_depth\", 2, 32, log=True)\n",
    "        model = RandomForestClassifier(max_depth=rf_max_depth, n_estimators=10).fit(X_train, y_train)\n",
    "        train_pred = model.predict(X_train)\n",
    "        test_pred = model.predict(X_test)\n",
    "        val_pred = model.predict(X_val)\n",
    "        # score = cross_val_score(classifier_obj, X, y, n_jobs=-1, cv=3)\n",
    "        # accuracy = score.mean()\n",
    "        train_accuracy, train_precision, train_recall, train_fscore = self.accuracy_precision_recall_fscore(y_train, train_pred)\n",
    "        test_accuracy, test_precision, test_recall, test_fscore = self.accuracy_precision_recall_fscore(y_test, test_pred)\n",
    "        val_accuracy, val_precision, val_recall, val_fscore = self.accuracy_precision_recall_fscore(y_val, val_pred)\n",
    "        \n",
    "        # df = pd.DataFrame({\n",
    "        #     'train_accuracy': train_accuracy,\n",
    "        #     'val_accuracy': val_accuracy,\n",
    "        #     'test_accuracy': test_accuracy,\n",
    "\n",
    "        #     'train_precision': train_precision,\n",
    "        #     'val_precision': val_precision,\n",
    "        #     'test_precision': test_precision,\n",
    "            \n",
    "        #     'train_recall': train_recall,\n",
    "        #     'val_recall': val_recall,\n",
    "        #     'test_recall': test_recall,\n",
    "            \n",
    "        #     'train_fscore': train_fscore,\n",
    "        #     'val_fscore': val_fscore,\n",
    "        #     'test_fscore': test_fscore,\n",
    "        #     }, \n",
    "        #     index=['RandomForestClassifier'])\n",
    "        return test_accuracy, test_precision, test_recall, test_fscore\n",
    "    def optimizer(self):\n",
    "        study = self.study\n",
    "        study.optimize(self.rfc_train, n_trials=self.n_trials)  \n",
    "    #     best_params = self.study.best_params\n",
    "    #     best_value = self.study.best_value\n",
    "    #     return best_params\n",
    "model = Classification(df, 'Potability', n_trials=100).optimizer()"
   ]
  },
  {
   "cell_type": "code",
   "execution_count": 46,
   "metadata": {},
   "outputs": [
    {
     "name": "stderr",
     "output_type": "stream",
     "text": [
      "[I 2024-05-24 10:49:25,044] A new study created in memory with name: no-name-2a1d13c0-5cb0-4b6d-882e-eb6511b4e45d\n",
      "[W 2024-05-24 10:49:25,075] Trial 0 failed with parameters: {'rf_max_depth': 3} because of the following error: The number of the values 4 did not match the number of the objectives 1.\n",
      "[W 2024-05-24 10:49:25,075] Trial 0 failed with value (0.5674157303370787, 0.5982363074032024, 0.5674157303370787, 0.4703961246264311).\n",
      "[W 2024-05-24 10:49:25,125] Trial 1 failed with parameters: {'rf_max_depth': 18} because of the following error: The number of the values 4 did not match the number of the objectives 1.\n",
      "[W 2024-05-24 10:49:25,125] Trial 1 failed with value (0.6151685393258427, 0.6127389464468116, 0.6151685393258427, 0.6071138173000086).\n",
      "[W 2024-05-24 10:49:25,180] Trial 2 failed with parameters: {'rf_max_depth': 8} because of the following error: The number of the values 4 did not match the number of the objectives 1.\n",
      "[W 2024-05-24 10:49:25,180] Trial 2 failed with value (0.6264044943820225, 0.636388503135126, 0.6264044943820225, 0.6016565486330289).\n",
      "[W 2024-05-24 10:49:25,210] Trial 3 failed with parameters: {'rf_max_depth': 2} because of the following error: The number of the values 4 did not match the number of the objectives 1.\n",
      "[W 2024-05-24 10:49:25,210] Trial 3 failed with value (0.547752808988764, 0.5362659968091246, 0.547752808988764, 0.44109755853311705).\n",
      "[W 2024-05-24 10:49:25,265] Trial 4 failed with parameters: {'rf_max_depth': 12} because of the following error: The number of the values 4 did not match the number of the objectives 1.\n",
      "[W 2024-05-24 10:49:25,265] Trial 4 failed with value (0.5870786516853933, 0.5827955788682295, 0.5870786516853933, 0.5791577983164128).\n",
      "[W 2024-05-24 10:49:25,295] Trial 5 failed with parameters: {'rf_max_depth': 3} because of the following error: The number of the values 4 did not match the number of the objectives 1.\n",
      "[W 2024-05-24 10:49:25,295] Trial 5 failed with value (0.598314606741573, 0.6179747183206321, 0.598314606741573, 0.5488328246875922).\n",
      "[W 2024-05-24 10:49:25,345] Trial 6 failed with parameters: {'rf_max_depth': 9} because of the following error: The number of the values 4 did not match the number of the objectives 1.\n",
      "[W 2024-05-24 10:49:25,345] Trial 6 failed with value (0.6039325842696629, 0.6006562460790419, 0.6039325842696629, 0.5969979856887879).\n",
      "[W 2024-05-24 10:49:25,408] Trial 7 failed with parameters: {'rf_max_depth': 24} because of the following error: The number of the values 4 did not match the number of the objectives 1.\n",
      "[W 2024-05-24 10:49:25,408] Trial 7 failed with value (0.6095505617977528, 0.6086823971985025, 0.6095505617977528, 0.5948324628855094).\n",
      "[W 2024-05-24 10:49:25,458] Trial 8 failed with parameters: {'rf_max_depth': 4} because of the following error: The number of the values 4 did not match the number of the objectives 1.\n",
      "[W 2024-05-24 10:49:25,458] Trial 8 failed with value (0.598314606741573, 0.6142610198789974, 0.598314606741573, 0.5526604959659457).\n",
      "[W 2024-05-24 10:49:25,493] Trial 9 failed with parameters: {'rf_max_depth': 2} because of the following error: The number of the values 4 did not match the number of the objectives 1.\n",
      "[W 2024-05-24 10:49:25,493] Trial 9 failed with value (0.5393258426966292, 0.5056602815757412, 0.5393258426966292, 0.4288612312004818).\n",
      "[W 2024-05-24 10:49:25,527] Trial 10 failed with parameters: {'rf_max_depth': 4} because of the following error: The number of the values 4 did not match the number of the objectives 1.\n",
      "[W 2024-05-24 10:49:25,527] Trial 10 failed with value (0.5842696629213483, 0.5986610486891386, 0.5842696629213483, 0.5278002559943108).\n",
      "[W 2024-05-24 10:49:25,562] Trial 11 failed with parameters: {'rf_max_depth': 2} because of the following error: The number of the values 4 did not match the number of the objectives 1.\n",
      "[W 2024-05-24 10:49:25,562] Trial 11 failed with value (0.547752808988764, 0.5511932130945827, 0.547752808988764, 0.40938162349111484).\n",
      "[W 2024-05-24 10:49:25,615] Trial 12 failed with parameters: {'rf_max_depth': 10} because of the following error: The number of the values 4 did not match the number of the objectives 1.\n",
      "[W 2024-05-24 10:49:25,615] Trial 12 failed with value (0.6039325842696629, 0.6008248482446247, 0.6039325842696629, 0.5949206226101263).\n",
      "[W 2024-05-24 10:49:25,643] Trial 13 failed with parameters: {'rf_max_depth': 4} because of the following error: The number of the values 4 did not match the number of the objectives 1.\n",
      "[W 2024-05-24 10:49:25,643] Trial 13 failed with value (0.5870786516853933, 0.6089075011105934, 0.5870786516853933, 0.525412591284801).\n",
      "[W 2024-05-24 10:49:25,693] Trial 14 failed with parameters: {'rf_max_depth': 5} because of the following error: The number of the values 4 did not match the number of the objectives 1.\n",
      "[W 2024-05-24 10:49:25,693] Trial 14 failed with value (0.5674157303370787, 0.5641111697291472, 0.5674157303370787, 0.5231007038615523).\n",
      "[W 2024-05-24 10:49:25,730] Trial 15 failed with parameters: {'rf_max_depth': 2} because of the following error: The number of the values 4 did not match the number of the objectives 1.\n",
      "[W 2024-05-24 10:49:25,730] Trial 15 failed with value (0.5533707865168539, 0.5609712273304425, 0.5533707865168539, 0.4408311312802039).\n",
      "[W 2024-05-24 10:49:25,766] Trial 16 failed with parameters: {'rf_max_depth': 6} because of the following error: The number of the values 4 did not match the number of the objectives 1.\n",
      "[W 2024-05-24 10:49:25,773] Trial 16 failed with value (0.5898876404494382, 0.5896173016811692, 0.5898876404494382, 0.5633959103915136).\n",
      "[W 2024-05-24 10:49:25,793] Trial 17 failed with parameters: {'rf_max_depth': 2} because of the following error: The number of the values 4 did not match the number of the objectives 1.\n",
      "[W 2024-05-24 10:49:25,806] Trial 17 failed with value (0.5561797752808989, 0.5857319894249835, 0.5561797752808989, 0.4348356688970248).\n",
      "[W 2024-05-24 10:49:25,852] Trial 18 failed with parameters: {'rf_max_depth': 7} because of the following error: The number of the values 4 did not match the number of the objectives 1.\n",
      "[W 2024-05-24 10:49:25,853] Trial 18 failed with value (0.6039325842696629, 0.6050154587742911, 0.6039325842696629, 0.5826484377715867).\n",
      "[W 2024-05-24 10:49:25,876] Trial 19 failed with parameters: {'rf_max_depth': 3} because of the following error: The number of the values 4 did not match the number of the objectives 1.\n",
      "[W 2024-05-24 10:49:25,876] Trial 19 failed with value (0.5702247191011236, 0.5797224394934962, 0.5702247191011236, 0.5011144893447765).\n",
      "[W 2024-05-24 10:49:25,936] Trial 20 failed with parameters: {'rf_max_depth': 9} because of the following error: The number of the values 4 did not match the number of the objectives 1.\n",
      "[W 2024-05-24 10:49:25,937] Trial 20 failed with value (0.5898876404494382, 0.5871814354335914, 0.5898876404494382, 0.5707468444476872).\n",
      "[W 2024-05-24 10:49:25,976] Trial 21 failed with parameters: {'rf_max_depth': 5} because of the following error: The number of the values 4 did not match the number of the objectives 1.\n",
      "[W 2024-05-24 10:49:25,978] Trial 21 failed with value (0.5730337078651685, 0.5800282759133863, 0.5730337078651685, 0.5127763682493658).\n",
      "[W 2024-05-24 10:49:26,020] Trial 22 failed with parameters: {'rf_max_depth': 5} because of the following error: The number of the values 4 did not match the number of the objectives 1.\n",
      "[W 2024-05-24 10:49:26,020] Trial 22 failed with value (0.5814606741573034, 0.5855896876367047, 0.5814606741573034, 0.5376709534012905).\n",
      "[W 2024-05-24 10:49:26,067] Trial 23 failed with parameters: {'rf_max_depth': 12} because of the following error: The number of the values 4 did not match the number of the objectives 1.\n",
      "[W 2024-05-24 10:49:26,067] Trial 23 failed with value (0.6292134831460674, 0.6276223044176147, 0.6292134831460674, 0.6217802628789484).\n",
      "[W 2024-05-24 10:49:26,092] Trial 24 failed with parameters: {'rf_max_depth': 3} because of the following error: The number of the values 4 did not match the number of the objectives 1.\n",
      "[W 2024-05-24 10:49:26,107] Trial 24 failed with value (0.5589887640449438, 0.5797372849155947, 0.5589887640449438, 0.45147149580128276).\n",
      "[W 2024-05-24 10:49:26,129] Trial 25 failed with parameters: {'rf_max_depth': 2} because of the following error: The number of the values 4 did not match the number of the objectives 1.\n",
      "[W 2024-05-24 10:49:26,140] Trial 25 failed with value (0.5449438202247191, 0.5253462241964986, 0.5449438202247191, 0.41223611493196644).\n",
      "[W 2024-05-24 10:49:26,192] Trial 26 failed with parameters: {'rf_max_depth': 14} because of the following error: The number of the values 4 did not match the number of the objectives 1.\n",
      "[W 2024-05-24 10:49:26,193] Trial 26 failed with value (0.601123595505618, 0.5979683851507913, 0.601123595505618, 0.5967862986800481).\n",
      "[W 2024-05-24 10:49:26,245] Trial 27 failed with parameters: {'rf_max_depth': 16} because of the following error: The number of the values 4 did not match the number of the objectives 1.\n",
      "[W 2024-05-24 10:49:26,246] Trial 27 failed with value (0.5870786516853933, 0.5830878779050714, 0.5870786516853933, 0.5811406939959363).\n",
      "[W 2024-05-24 10:49:26,276] Trial 28 failed with parameters: {'rf_max_depth': 6} because of the following error: The number of the values 4 did not match the number of the objectives 1.\n",
      "[W 2024-05-24 10:49:26,276] Trial 28 failed with value (0.6292134831460674, 0.636076598962835, 0.6292134831460674, 0.6087387436127952).\n",
      "[W 2024-05-24 10:49:26,340] Trial 29 failed with parameters: {'rf_max_depth': 30} because of the following error: The number of the values 4 did not match the number of the objectives 1.\n",
      "[W 2024-05-24 10:49:26,341] Trial 29 failed with value (0.6348314606741573, 0.6354255456541392, 0.6348314606741573, 0.6239719248264207).\n",
      "[W 2024-05-24 10:49:26,395] Trial 30 failed with parameters: {'rf_max_depth': 30} because of the following error: The number of the values 4 did not match the number of the objectives 1.\n",
      "[W 2024-05-24 10:49:26,395] Trial 30 failed with value (0.6179775280898876, 0.6202153514683765, 0.6179775280898876, 0.600147745512914).\n",
      "[W 2024-05-24 10:49:26,426] Trial 31 failed with parameters: {'rf_max_depth': 2} because of the following error: The number of the values 4 did not match the number of the objectives 1.\n",
      "[W 2024-05-24 10:49:26,426] Trial 31 failed with value (0.5393258426966292, 0.4666069352963968, 0.5393258426966292, 0.39611387653863317).\n",
      "[W 2024-05-24 10:49:26,462] Trial 32 failed with parameters: {'rf_max_depth': 2} because of the following error: The number of the values 4 did not match the number of the objectives 1.\n",
      "[W 2024-05-24 10:49:26,463] Trial 32 failed with value (0.5533707865168539, 0.5896951932613876, 0.5533707865168539, 0.42101580398465693).\n",
      "[W 2024-05-24 10:49:26,492] Trial 33 failed with parameters: {'rf_max_depth': 2} because of the following error: The number of the values 4 did not match the number of the objectives 1.\n",
      "[W 2024-05-24 10:49:26,492] Trial 33 failed with value (0.5421348314606742, 0.5115323050767488, 0.5421348314606742, 0.41896662000279583).\n",
      "[W 2024-05-24 10:49:26,529] Trial 34 failed with parameters: {'rf_max_depth': 2} because of the following error: The number of the values 4 did not match the number of the objectives 1.\n",
      "[W 2024-05-24 10:49:26,529] Trial 34 failed with value (0.5589887640449438, 0.6554576951721012, 0.5589887640449438, 0.4240553719758076).\n",
      "[W 2024-05-24 10:49:26,567] Trial 35 failed with parameters: {'rf_max_depth': 7} because of the following error: The number of the values 4 did not match the number of the objectives 1.\n",
      "[W 2024-05-24 10:49:26,567] Trial 35 failed with value (0.601123595505618, 0.5984648919168569, 0.601123595505618, 0.5883951900969421).\n",
      "[W 2024-05-24 10:49:26,590] Trial 36 failed with parameters: {'rf_max_depth': 2} because of the following error: The number of the values 4 did not match the number of the objectives 1.\n",
      "[W 2024-05-24 10:49:26,590] Trial 36 failed with value (0.5561797752808989, 0.5857319894249835, 0.5561797752808989, 0.4348356688970248).\n",
      "[W 2024-05-24 10:49:26,639] Trial 37 failed with parameters: {'rf_max_depth': 2} because of the following error: The number of the values 4 did not match the number of the objectives 1.\n",
      "[W 2024-05-24 10:49:26,639] Trial 37 failed with value (0.5196629213483146, 0.4297866503533333, 0.5196629213483146, 0.40255812600012336).\n",
      "[W 2024-05-24 10:49:26,694] Trial 38 failed with parameters: {'rf_max_depth': 30} because of the following error: The number of the values 4 did not match the number of the objectives 1.\n",
      "[W 2024-05-24 10:49:26,695] Trial 38 failed with value (0.6067415730337079, 0.6060767436930252, 0.6067415730337079, 0.5904549526887276).\n",
      "[W 2024-05-24 10:49:26,745] Trial 39 failed with parameters: {'rf_max_depth': 8} because of the following error: The number of the values 4 did not match the number of the objectives 1.\n",
      "[W 2024-05-24 10:49:26,745] Trial 39 failed with value (0.6348314606741573, 0.6359262209754118, 0.6348314606741573, 0.6231786951591723).\n",
      "[W 2024-05-24 10:49:26,776] Trial 40 failed with parameters: {'rf_max_depth': 2} because of the following error: The number of the values 4 did not match the number of the objectives 1.\n",
      "[W 2024-05-24 10:49:26,776] Trial 40 failed with value (0.5449438202247191, 0.5259497057249867, 0.5449438202247191, 0.42838226009733327).\n",
      "[W 2024-05-24 10:49:26,809] Trial 41 failed with parameters: {'rf_max_depth': 3} because of the following error: The number of the values 4 did not match the number of the objectives 1.\n",
      "[W 2024-05-24 10:49:26,809] Trial 41 failed with value (0.5955056179775281, 0.6295554866481833, 0.5955056179775281, 0.5316429306849648).\n",
      "[W 2024-05-24 10:49:26,849] Trial 42 failed with parameters: {'rf_max_depth': 2} because of the following error: The number of the values 4 did not match the number of the objectives 1.\n",
      "[W 2024-05-24 10:49:26,849] Trial 42 failed with value (0.5393258426966292, 0.4989029984708464, 0.5393258426966292, 0.41740305820731605).\n",
      "[W 2024-05-24 10:49:26,892] Trial 43 failed with parameters: {'rf_max_depth': 27} because of the following error: The number of the values 4 did not match the number of the objectives 1.\n",
      "[W 2024-05-24 10:49:26,892] Trial 43 failed with value (0.6123595505617978, 0.6103879373116605, 0.6123595505617978, 0.60164303549135).\n",
      "[W 2024-05-24 10:49:26,943] Trial 44 failed with parameters: {'rf_max_depth': 7} because of the following error: The number of the values 4 did not match the number of the objectives 1.\n",
      "[W 2024-05-24 10:49:26,943] Trial 44 failed with value (0.601123595505618, 0.5996039855840577, 0.601123595505618, 0.5846043091557094).\n",
      "[W 2024-05-24 10:49:26,976] Trial 45 failed with parameters: {'rf_max_depth': 3} because of the following error: The number of the values 4 did not match the number of the objectives 1.\n",
      "[W 2024-05-24 10:49:26,976] Trial 45 failed with value (0.5533707865168539, 0.5483432606640666, 0.5533707865168539, 0.4675116828640211).\n",
      "[W 2024-05-24 10:49:27,028] Trial 46 failed with parameters: {'rf_max_depth': 3} because of the following error: The number of the values 4 did not match the number of the objectives 1.\n",
      "[W 2024-05-24 10:49:27,029] Trial 46 failed with value (0.5561797752808989, 0.5547962018678241, 0.5561797752808989, 0.47233936095505613).\n",
      "[W 2024-05-24 10:49:27,072] Trial 47 failed with parameters: {'rf_max_depth': 5} because of the following error: The number of the values 4 did not match the number of the objectives 1.\n",
      "[W 2024-05-24 10:49:27,073] Trial 47 failed with value (0.6039325842696629, 0.6077725876362412, 0.6039325842696629, 0.5776960402801283).\n",
      "[W 2024-05-24 10:49:27,107] Trial 48 failed with parameters: {'rf_max_depth': 9} because of the following error: The number of the values 4 did not match the number of the objectives 1.\n",
      "[W 2024-05-24 10:49:27,107] Trial 48 failed with value (0.5337078651685393, 0.5263512098363887, 0.5337078651685393, 0.5251577789570522).\n",
      "[W 2024-05-24 10:49:27,185] Trial 49 failed with parameters: {'rf_max_depth': 5} because of the following error: The number of the values 4 did not match the number of the objectives 1.\n",
      "[W 2024-05-24 10:49:27,185] Trial 49 failed with value (0.5758426966292135, 0.5723229087598968, 0.5758426966292135, 0.5463175779293552).\n",
      "[W 2024-05-24 10:49:27,225] Trial 50 failed with parameters: {'rf_max_depth': 5} because of the following error: The number of the values 4 did not match the number of the objectives 1.\n",
      "[W 2024-05-24 10:49:27,225] Trial 50 failed with value (0.6376404494382022, 0.6521426956209878, 0.6376404494382022, 0.6124170036615022).\n",
      "[W 2024-05-24 10:49:27,257] Trial 51 failed with parameters: {'rf_max_depth': 2} because of the following error: The number of the values 4 did not match the number of the objectives 1.\n",
      "[W 2024-05-24 10:49:27,258] Trial 51 failed with value (0.5533707865168539, 0.5896951932613876, 0.5533707865168539, 0.42101580398465693).\n",
      "[W 2024-05-24 10:49:27,310] Trial 52 failed with parameters: {'rf_max_depth': 30} because of the following error: The number of the values 4 did not match the number of the objectives 1.\n",
      "[W 2024-05-24 10:49:27,310] Trial 52 failed with value (0.6095505617977528, 0.6105817786008607, 0.6095505617977528, 0.5907930384215865).\n",
      "[W 2024-05-24 10:49:27,363] Trial 53 failed with parameters: {'rf_max_depth': 29} because of the following error: The number of the values 4 did not match the number of the objectives 1.\n",
      "[W 2024-05-24 10:49:27,364] Trial 53 failed with value (0.5786516853932584, 0.5737129531481874, 0.5786516853932584, 0.5612017350236367).\n",
      "[W 2024-05-24 10:49:27,414] Trial 54 failed with parameters: {'rf_max_depth': 18} because of the following error: The number of the values 4 did not match the number of the objectives 1.\n",
      "[W 2024-05-24 10:49:27,415] Trial 54 failed with value (0.6460674157303371, 0.6459189986376873, 0.6460674157303371, 0.6383401374697466).\n",
      "[W 2024-05-24 10:49:27,440] Trial 55 failed with parameters: {'rf_max_depth': 2} because of the following error: The number of the values 4 did not match the number of the objectives 1.\n",
      "[W 2024-05-24 10:49:27,440] Trial 55 failed with value (0.5533707865168539, 0.5609712273304425, 0.5533707865168539, 0.4408311312802039).\n",
      "[W 2024-05-24 10:49:27,479] Trial 56 failed with parameters: {'rf_max_depth': 2} because of the following error: The number of the values 4 did not match the number of the objectives 1.\n",
      "[W 2024-05-24 10:49:27,479] Trial 56 failed with value (0.5589887640449438, 0.5759632030958282, 0.5589887640449438, 0.4549833334763937).\n",
      "[W 2024-05-24 10:49:27,507] Trial 57 failed with parameters: {'rf_max_depth': 5} because of the following error: The number of the values 4 did not match the number of the objectives 1.\n",
      "[W 2024-05-24 10:49:27,507] Trial 57 failed with value (0.6151685393258427, 0.6487027963889513, 0.6151685393258427, 0.5658548157340026).\n",
      "[W 2024-05-24 10:49:27,567] Trial 58 failed with parameters: {'rf_max_depth': 7} because of the following error: The number of the values 4 did not match the number of the objectives 1.\n",
      "[W 2024-05-24 10:49:27,568] Trial 58 failed with value (0.5898876404494382, 0.5878398916399589, 0.5898876404494382, 0.5684467764511516).\n",
      "[W 2024-05-24 10:49:27,609] Trial 59 failed with parameters: {'rf_max_depth': 10} because of the following error: The number of the values 4 did not match the number of the objectives 1.\n",
      "[W 2024-05-24 10:49:27,609] Trial 59 failed with value (0.6151685393258427, 0.6126926562913271, 0.6151685393258427, 0.6121645381545916).\n",
      "[W 2024-05-24 10:49:27,641] Trial 60 failed with parameters: {'rf_max_depth': 2} because of the following error: The number of the values 4 did not match the number of the objectives 1.\n",
      "[W 2024-05-24 10:49:27,641] Trial 60 failed with value (0.5533707865168539, 0.5642237574732349, 0.5533707865168539, 0.4370792479061254).\n",
      "[W 2024-05-24 10:49:27,692] Trial 61 failed with parameters: {'rf_max_depth': 7} because of the following error: The number of the values 4 did not match the number of the objectives 1.\n",
      "[W 2024-05-24 10:49:27,692] Trial 61 failed with value (0.5870786516853933, 0.5843034463023097, 0.5870786516853933, 0.566083721138011).\n",
      "[W 2024-05-24 10:49:27,743] Trial 62 failed with parameters: {'rf_max_depth': 25} because of the following error: The number of the values 4 did not match the number of the objectives 1.\n",
      "[W 2024-05-24 10:49:27,743] Trial 62 failed with value (0.6404494382022472, 0.6466424842962045, 0.6404494382022472, 0.6236684663650957).\n",
      "[W 2024-05-24 10:49:27,808] Trial 63 failed with parameters: {'rf_max_depth': 13} because of the following error: The number of the values 4 did not match the number of the objectives 1.\n",
      "[W 2024-05-24 10:49:27,809] Trial 63 failed with value (0.6067415730337079, 0.6036987926582456, 0.6067415730337079, 0.5988578545685816).\n",
      "[W 2024-05-24 10:49:27,860] Trial 64 failed with parameters: {'rf_max_depth': 14} because of the following error: The number of the values 4 did not match the number of the objectives 1.\n",
      "[W 2024-05-24 10:49:27,861] Trial 64 failed with value (0.6320224719101124, 0.6302972503507998, 0.6320224719101124, 0.6255796888314272).\n",
      "[W 2024-05-24 10:49:27,892] Trial 65 failed with parameters: {'rf_max_depth': 3} because of the following error: The number of the values 4 did not match the number of the objectives 1.\n",
      "[W 2024-05-24 10:49:27,892] Trial 65 failed with value (0.547752808988764, 0.5357569755131314, 0.547752808988764, 0.4446043783702494).\n",
      "[W 2024-05-24 10:49:27,942] Trial 66 failed with parameters: {'rf_max_depth': 17} because of the following error: The number of the values 4 did not match the number of the objectives 1.\n",
      "[W 2024-05-24 10:49:27,942] Trial 66 failed with value (0.5926966292134831, 0.5890334402941659, 0.5926966292134831, 0.5801457564326181).\n",
      "[W 2024-05-24 10:49:27,992] Trial 67 failed with parameters: {'rf_max_depth': 23} because of the following error: The number of the values 4 did not match the number of the objectives 1.\n",
      "[W 2024-05-24 10:49:27,992] Trial 67 failed with value (0.6039325842696629, 0.6023013195768039, 0.6039325842696629, 0.5890027141500491).\n",
      "[W 2024-05-24 10:49:28,058] Trial 68 failed with parameters: {'rf_max_depth': 24} because of the following error: The number of the values 4 did not match the number of the objectives 1.\n",
      "[W 2024-05-24 10:49:28,059] Trial 68 failed with value (0.6320224719101124, 0.6380388946077749, 0.6320224719101124, 0.6133127038712887).\n",
      "[W 2024-05-24 10:49:28,092] Trial 69 failed with parameters: {'rf_max_depth': 5} because of the following error: The number of the values 4 did not match the number of the objectives 1.\n",
      "[W 2024-05-24 10:49:28,092] Trial 69 failed with value (0.5617977528089888, 0.5630773594717683, 0.5617977528089888, 0.4900347779561263).\n",
      "[W 2024-05-24 10:49:28,124] Trial 70 failed with parameters: {'rf_max_depth': 2} because of the following error: The number of the values 4 did not match the number of the objectives 1.\n",
      "[W 2024-05-24 10:49:28,124] Trial 70 failed with value (0.5365168539325843, 0.5022940307246215, 0.5365168539325843, 0.43771429802118106).\n",
      "[W 2024-05-24 10:49:28,184] Trial 71 failed with parameters: {'rf_max_depth': 10} because of the following error: The number of the values 4 did not match the number of the objectives 1.\n",
      "[W 2024-05-24 10:49:28,185] Trial 71 failed with value (0.6179775280898876, 0.6156605485379301, 0.6179775280898876, 0.610319058723765).\n",
      "[W 2024-05-24 10:49:28,241] Trial 72 failed with parameters: {'rf_max_depth': 31} because of the following error: The number of the values 4 did not match the number of the objectives 1.\n",
      "[W 2024-05-24 10:49:28,241] Trial 72 failed with value (0.6348314606741573, 0.6342017308125247, 0.6348314606741573, 0.6261793167912231).\n",
      "[W 2024-05-24 10:49:28,272] Trial 73 failed with parameters: {'rf_max_depth': 2} because of the following error: The number of the values 4 did not match the number of the objectives 1.\n",
      "[W 2024-05-24 10:49:28,273] Trial 73 failed with value (0.5421348314606742, 0.5037986114195201, 0.5421348314606742, 0.40645016383332755).\n",
      "[W 2024-05-24 10:49:28,312] Trial 74 failed with parameters: {'rf_max_depth': 5} because of the following error: The number of the values 4 did not match the number of the objectives 1.\n",
      "[W 2024-05-24 10:49:28,313] Trial 74 failed with value (0.5870786516853933, 0.5868355972800952, 0.5870786516853933, 0.5583356553352).\n",
      "[W 2024-05-24 10:49:28,340] Trial 75 failed with parameters: {'rf_max_depth': 2} because of the following error: The number of the values 4 did not match the number of the objectives 1.\n",
      "[W 2024-05-24 10:49:28,340] Trial 75 failed with value (0.5449438202247191, 0.5256444150693985, 0.5449438202247191, 0.4205277111475824).\n",
      "[W 2024-05-24 10:49:28,394] Trial 76 failed with parameters: {'rf_max_depth': 11} because of the following error: The number of the values 4 did not match the number of the objectives 1.\n",
      "[W 2024-05-24 10:49:28,394] Trial 76 failed with value (0.6095505617977528, 0.6068633066617111, 0.6095505617977528, 0.600666429381614).\n",
      "[W 2024-05-24 10:49:28,449] Trial 77 failed with parameters: {'rf_max_depth': 26} because of the following error: The number of the values 4 did not match the number of the objectives 1.\n",
      "[W 2024-05-24 10:49:28,449] Trial 77 failed with value (0.6123595505617978, 0.6125495018019929, 0.6123595505617978, 0.5963055962217457).\n",
      "[W 2024-05-24 10:49:28,479] Trial 78 failed with parameters: {'rf_max_depth': 5} because of the following error: The number of the values 4 did not match the number of the objectives 1.\n",
      "[W 2024-05-24 10:49:28,479] Trial 78 failed with value (0.5674157303370787, 0.5636572242443425, 0.5674157303370787, 0.524950908242714).\n",
      "[W 2024-05-24 10:49:28,528] Trial 79 failed with parameters: {'rf_max_depth': 2} because of the following error: The number of the values 4 did not match the number of the objectives 1.\n",
      "[W 2024-05-24 10:49:28,529] Trial 79 failed with value (0.550561797752809, 0.555688202247191, 0.550561797752809, 0.4276816900223036).\n",
      "[W 2024-05-24 10:49:28,559] Trial 80 failed with parameters: {'rf_max_depth': 2} because of the following error: The number of the values 4 did not match the number of the objectives 1.\n",
      "[W 2024-05-24 10:49:28,559] Trial 80 failed with value (0.547752808988764, 0.5368942464692342, 0.547752808988764, 0.43749624728666575).\n",
      "[W 2024-05-24 10:49:28,607] Trial 81 failed with parameters: {'rf_max_depth': 12} because of the following error: The number of the values 4 did not match the number of the objectives 1.\n",
      "[W 2024-05-24 10:49:28,607] Trial 81 failed with value (0.651685393258427, 0.651201058298837, 0.651685393258427, 0.645298581871533).\n",
      "[W 2024-05-24 10:49:28,645] Trial 82 failed with parameters: {'rf_max_depth': 5} because of the following error: The number of the values 4 did not match the number of the objectives 1.\n",
      "[W 2024-05-24 10:49:28,645] Trial 82 failed with value (0.5702247191011236, 0.5797224394934962, 0.5702247191011236, 0.5011144893447765).\n",
      "[W 2024-05-24 10:49:28,693] Trial 83 failed with parameters: {'rf_max_depth': 5} because of the following error: The number of the values 4 did not match the number of the objectives 1.\n",
      "[W 2024-05-24 10:49:28,694] Trial 83 failed with value (0.5617977528089888, 0.5611397517808622, 0.5617977528089888, 0.4951248675005299).\n",
      "[W 2024-05-24 10:49:28,741] Trial 84 failed with parameters: {'rf_max_depth': 9} because of the following error: The number of the values 4 did not match the number of the objectives 1.\n",
      "[W 2024-05-24 10:49:28,741] Trial 84 failed with value (0.6460674157303371, 0.6522838896434402, 0.6460674157303371, 0.6304943342888889).\n",
      "[W 2024-05-24 10:49:28,793] Trial 85 failed with parameters: {'rf_max_depth': 8} because of the following error: The number of the values 4 did not match the number of the objectives 1.\n",
      "[W 2024-05-24 10:49:28,794] Trial 85 failed with value (0.5926966292134831, 0.5897682929555036, 0.5926966292134831, 0.576341878072534).\n",
      "[W 2024-05-24 10:49:28,826] Trial 86 failed with parameters: {'rf_max_depth': 2} because of the following error: The number of the values 4 did not match the number of the objectives 1.\n",
      "[W 2024-05-24 10:49:28,826] Trial 86 failed with value (0.5449438202247191, 0.5254944477298115, 0.5449438202247191, 0.4164383013431311).\n",
      "[W 2024-05-24 10:49:28,877] Trial 87 failed with parameters: {'rf_max_depth': 13} because of the following error: The number of the values 4 did not match the number of the objectives 1.\n",
      "[W 2024-05-24 10:49:28,877] Trial 87 failed with value (0.5870786516853933, 0.5827413784717156, 0.5870786516853933, 0.5784359937452647).\n",
      "[W 2024-05-24 10:49:28,925] Trial 88 failed with parameters: {'rf_max_depth': 4} because of the following error: The number of the values 4 did not match the number of the objectives 1.\n",
      "[W 2024-05-24 10:49:28,925] Trial 88 failed with value (0.5814606741573034, 0.6079608398707351, 0.5814606741573034, 0.5091007073889634).\n",
      "[W 2024-05-24 10:49:28,965] Trial 89 failed with parameters: {'rf_max_depth': 2} because of the following error: The number of the values 4 did not match the number of the objectives 1.\n",
      "[W 2024-05-24 10:49:28,965] Trial 89 failed with value (0.550561797752809, 0.5648517115233864, 0.550561797752809, 0.41949245919206557).\n",
      "[W 2024-05-24 10:49:29,009] Trial 90 failed with parameters: {'rf_max_depth': 11} because of the following error: The number of the values 4 did not match the number of the objectives 1.\n",
      "[W 2024-05-24 10:49:29,009] Trial 90 failed with value (0.5758426966292135, 0.5710152418072839, 0.5758426966292135, 0.5684162825461488).\n",
      "[W 2024-05-24 10:49:29,040] Trial 91 failed with parameters: {'rf_max_depth': 4} because of the following error: The number of the values 4 did not match the number of the objectives 1.\n",
      "[W 2024-05-24 10:49:29,040] Trial 91 failed with value (0.5758426966292135, 0.598238699882986, 0.5758426966292135, 0.4998468372961895).\n",
      "[W 2024-05-24 10:49:29,107] Trial 92 failed with parameters: {'rf_max_depth': 23} because of the following error: The number of the values 4 did not match the number of the objectives 1.\n",
      "[W 2024-05-24 10:49:29,107] Trial 92 failed with value (0.6207865168539326, 0.6209603549892474, 0.6207865168539326, 0.6073926840991927).\n",
      "[W 2024-05-24 10:49:29,157] Trial 93 failed with parameters: {'rf_max_depth': 6} because of the following error: The number of the values 4 did not match the number of the objectives 1.\n",
      "[W 2024-05-24 10:49:29,158] Trial 93 failed with value (0.5702247191011236, 0.5642434726762307, 0.5702247191011236, 0.547129155879807).\n",
      "[W 2024-05-24 10:49:29,195] Trial 94 failed with parameters: {'rf_max_depth': 2} because of the following error: The number of the values 4 did not match the number of the objectives 1.\n",
      "[W 2024-05-24 10:49:29,195] Trial 94 failed with value (0.5646067415730337, 0.6373422518040133, 0.5646067415730337, 0.4436235554598412).\n",
      "[W 2024-05-24 10:49:29,229] Trial 95 failed with parameters: {'rf_max_depth': 6} because of the following error: The number of the values 4 did not match the number of the objectives 1.\n",
      "[W 2024-05-24 10:49:29,229] Trial 95 failed with value (0.5730337078651685, 0.5685562864939856, 0.5730337078651685, 0.5440369667785399).\n",
      "[W 2024-05-24 10:49:29,296] Trial 96 failed with parameters: {'rf_max_depth': 25} because of the following error: The number of the values 4 did not match the number of the objectives 1.\n",
      "[W 2024-05-24 10:49:29,297] Trial 96 failed with value (0.6264044943820225, 0.6272842207031614, 0.6264044943820225, 0.6132090887792047).\n",
      "[W 2024-05-24 10:49:29,329] Trial 97 failed with parameters: {'rf_max_depth': 6} because of the following error: The number of the values 4 did not match the number of the objectives 1.\n",
      "[W 2024-05-24 10:49:29,329] Trial 97 failed with value (0.6544943820224719, 0.668972061018416, 0.6544943820224719, 0.6338325323491086).\n",
      "[W 2024-05-24 10:49:29,375] Trial 98 failed with parameters: {'rf_max_depth': 7} because of the following error: The number of the values 4 did not match the number of the objectives 1.\n",
      "[W 2024-05-24 10:49:29,375] Trial 98 failed with value (0.6235955056179775, 0.6254950180199279, 0.6235955056179775, 0.6080068832877821).\n",
      "[W 2024-05-24 10:49:29,424] Trial 99 failed with parameters: {'rf_max_depth': 5} because of the following error: The number of the values 4 did not match the number of the objectives 1.\n",
      "[W 2024-05-24 10:49:29,425] Trial 99 failed with value (0.5449438202247191, 0.5296568065428419, 0.5449438202247191, 0.4899933886798411).\n"
     ]
    }
   ],
   "source": [
    "model = Classification(df, 'Potability', n_trials=100).optimizer()"
   ]
  },
  {
   "cell_type": "code",
   "execution_count": 49,
   "metadata": {},
   "outputs": [
    {
     "ename": "AttributeError",
     "evalue": "'NoneType' object has no attribute 'best_value'",
     "output_type": "error",
     "traceback": [
      "\u001b[1;31m---------------------------------------------------------------------------\u001b[0m",
      "\u001b[1;31mAttributeError\u001b[0m                            Traceback (most recent call last)",
      "Cell \u001b[1;32mIn[49], line 1\u001b[0m\n\u001b[1;32m----> 1\u001b[0m \u001b[43mmodel\u001b[49m\u001b[38;5;241;43m.\u001b[39;49m\u001b[43mbest_value\u001b[49m\n",
      "\u001b[1;31mAttributeError\u001b[0m: 'NoneType' object has no attribute 'best_value'"
     ]
    }
   ],
   "source": [
    "model.best_value"
   ]
  },
  {
   "cell_type": "code",
   "execution_count": 127,
   "metadata": {},
   "outputs": [],
   "source": [
    "PATH = 'F:\\industry\\data\\clf_data\\Test_02.csv'\n",
    "df = pd.read_csv(PATH)\n",
    "# X = df.drop('Potability', axis=1)\n",
    "# y = df['Potability']\n",
    "\n",
    "# result = RegressionCurv(X, y).train_reg()\n",
    "# print(result)\n",
    "\n",
    "class Classification:\n",
    "    def __init__(self, df, target, n_trials=100):\n",
    "        self.df = df\n",
    "        self.target = target\n",
    "        self.n_trials = n_trials\n",
    "        self.study = optuna.create_study(direction=\"maximize\")\n",
    "\n",
    "    def train_test_set(self):\n",
    "        df = self.df\n",
    "        target = self.target\n",
    "        X = df.drop(target, axis=1)\n",
    "        y = df[target]\n",
    "        X_train, X_test, y_train, y_test = train_test_split(X, y, test_size=0.2, random_state=42)\n",
    "        return X_train, X_test, y_train, y_test\n",
    "    \n",
    "    def train_val_set(self):\n",
    "        X_train, X_test, y_train, y_test = self.train_test_set()\n",
    "        X_train, X_val, y_train, y_val = train_test_split(X_train, y_train, test_size=0.2, random_state=42)\n",
    "        return X_train, X_val, y_train, y_val\n",
    "    \n",
    "    def accuracy_precision_recall_fscore(self, y_true, y_pred):\n",
    "        accuracy, precision, recall, fscore = accuracy_score(y_true, y_pred), precision_score(y_true, y_pred, average='weighted'), recall_score(y_true, y_pred, average='weighted'), f1_score(y_true, y_pred, average='weighted') \n",
    "        return accuracy, precision, recall, fscore\n",
    "    \n",
    "    def rfc_train(self, trial):\n",
    "        X_train, X_test, y_train, y_test = self.train_test_set()\n",
    "        X_train, X_val, y_train, y_val = self.train_val_set()\n",
    "        \n",
    "        rf_max_depth = trial.suggest_int(\"rf_max_depth\", 2, 32, log=True)\n",
    "        model = RandomForestClassifier(max_depth=rf_max_depth, n_estimators=10)\n",
    "        train_pred = model.predict(X_train)\n",
    "        test_pred = model.predict(X_test)\n",
    "        val_pred = model.predict(X_val)\n",
    "        # score = cross_val_score(classifier_obj, X, y, n_jobs=-1, cv=3)\n",
    "        # accuracy = score.mean()\n",
    "        train_accuracy, train_precision, train_recall, train_fscore = self.accuracy_precision_recall_fscore(y_train, train_pred)\n",
    "        test_accuracy, test_precision, test_recall, test_fscore = self.accuracy_precision_recall_fscore(y_test, test_pred)\n",
    "        val_accuracy, val_precision, val_recall, val_fscore = self.accuracy_precision_recall_fscore(y_val, val_pred)\n",
    "        df = pd.DataFrame({\n",
    "            'train_accuracy': train_accuracy,\n",
    "            'val_accuracy': val_accuracy,\n",
    "            'test_accuracy': test_accuracy,\n",
    "\n",
    "            'train_precision': train_precision,\n",
    "            'val_precision': val_precision,\n",
    "            'test_precision': test_precision,\n",
    "            \n",
    "            'train_recall': train_recall,\n",
    "            'val_recall': val_recall,\n",
    "            'test_recall': test_recall,\n",
    "            \n",
    "            'train_fscore': train_fscore,\n",
    "            'val_fscore': val_fscore,\n",
    "            'test_fscore': test_fscore,\n",
    "            }, \n",
    "            index=['RandomForestClassifier'])\n",
    "\n",
    "        return df\n",
    "    def run_optimizer(self):\n",
    "        self.study.optimize(self.rfc_train(), n_trials=self.n_trials)\n",
    "        "
   ]
  },
  {
   "cell_type": "code",
   "execution_count": 132,
   "metadata": {},
   "outputs": [
    {
     "name": "stderr",
     "output_type": "stream",
     "text": [
      "[I 2024-05-21 15:39:19,450] A new study created in memory with name: no-name-476f99ee-5d52-4a22-bd3c-6df3457435c3\n"
     ]
    },
    {
     "ename": "TypeError",
     "evalue": "rfc_train() missing 1 required positional argument: 'trial'",
     "output_type": "error",
     "traceback": [
      "\u001b[1;31m---------------------------------------------------------------------------\u001b[0m",
      "\u001b[1;31mTypeError\u001b[0m                                 Traceback (most recent call last)",
      "Cell \u001b[1;32mIn[132], line 1\u001b[0m\n\u001b[1;32m----> 1\u001b[0m model \u001b[38;5;241m=\u001b[39m \u001b[43mClassification\u001b[49m\u001b[43m(\u001b[49m\u001b[43mdf\u001b[49m\u001b[43m,\u001b[49m\u001b[43m \u001b[49m\u001b[38;5;124;43m'\u001b[39;49m\u001b[38;5;124;43mPotability\u001b[39;49m\u001b[38;5;124;43m'\u001b[39;49m\u001b[43m,\u001b[49m\u001b[43m \u001b[49m\u001b[43mn_trials\u001b[49m\u001b[38;5;241;43m=\u001b[39;49m\u001b[38;5;241;43m100\u001b[39;49m\u001b[43m)\u001b[49m\u001b[38;5;241;43m.\u001b[39;49m\u001b[43mrun_optimizer\u001b[49m\u001b[43m(\u001b[49m\u001b[43m)\u001b[49m\n",
      "Cell \u001b[1;32mIn[127], line 69\u001b[0m, in \u001b[0;36mClassification.run_optimizer\u001b[1;34m(self)\u001b[0m\n\u001b[0;32m     68\u001b[0m \u001b[38;5;28;01mdef\u001b[39;00m \u001b[38;5;21mrun_optimizer\u001b[39m(\u001b[38;5;28mself\u001b[39m):\n\u001b[1;32m---> 69\u001b[0m     \u001b[38;5;28mself\u001b[39m\u001b[38;5;241m.\u001b[39mstudy\u001b[38;5;241m.\u001b[39moptimize(\u001b[38;5;28;43mself\u001b[39;49m\u001b[38;5;241;43m.\u001b[39;49m\u001b[43mrfc_train\u001b[49m\u001b[43m(\u001b[49m\u001b[43m)\u001b[49m, n_trials\u001b[38;5;241m=\u001b[39m\u001b[38;5;28mself\u001b[39m\u001b[38;5;241m.\u001b[39mn_trials)\n",
      "\u001b[1;31mTypeError\u001b[0m: rfc_train() missing 1 required positional argument: 'trial'"
     ]
    }
   ],
   "source": [
    "model = Classification(df, 'Potability', n_trials=100).run_optimizer()"
   ]
  },
  {
   "cell_type": "code",
   "execution_count": 131,
   "metadata": {},
   "outputs": [
    {
     "data": {
      "text/plain": [
       "<bound method Classification.run_optimizer of <__main__.Classification object at 0x0000020ED8294340>>"
      ]
     },
     "execution_count": 131,
     "metadata": {},
     "output_type": "execute_result"
    }
   ],
   "source": [
    "model"
   ]
  },
  {
   "cell_type": "code",
   "execution_count": 108,
   "metadata": {},
   "outputs": [
    {
     "name": "stdout",
     "output_type": "stream",
     "text": [
      "0.6004331692569467 18 {'rf_max_depth': 16}\n"
     ]
    }
   ],
   "source": [
    "best = study.best_trial\n",
    "print(best.value, best.number, best.params)"
   ]
  },
  {
   "cell_type": "code",
   "execution_count": 91,
   "metadata": {},
   "outputs": [],
   "source": [
    "test_df = pd.DataFrame({'score': []})\n",
    "for n in range(len(result)):\n",
    "    test_df = pd.concat([test_df, pd.DataFrame({'score': result[n].values})], ignore_index=True)\n"
   ]
  },
  {
   "cell_type": "code",
   "execution_count": 109,
   "metadata": {},
   "outputs": [
    {
     "data": {
      "text/plain": [
       "score    0.552036\n",
       "dtype: float64"
      ]
     },
     "execution_count": 109,
     "metadata": {},
     "output_type": "execute_result"
    }
   ],
   "source": [
    "test_df.min()"
   ]
  },
  {
   "cell_type": "code",
   "execution_count": 93,
   "metadata": {},
   "outputs": [
    {
     "data": {
      "text/plain": [
       "<Axes: >"
      ]
     },
     "execution_count": 93,
     "metadata": {},
     "output_type": "execute_result"
    },
    {
     "data": {
      "image/png": "[encoded data removed]",
      "text/plain": [
       "<Figure size 640x480 with 1 Axes>"
      ]
     },
     "metadata": {},
     "output_type": "display_data"
    }
   ],
   "source": [
    "test_df.plot.line()"
   ]
  },
  {
   "cell_type": "code",
   "execution_count": null,
   "metadata": {},
   "outputs": [],
   "source": []
  }
 ],
 "metadata": {
  "kernelspec": {
   "display_name": "dev1",
   "language": "python",
   "name": "python3"
  },
  "language_info": {
   "codemirror_mode": {
    "name": "ipython",
    "version": 3
   },
   "file_extension": ".py",
   "mimetype": "text/x-python",
   "name": "python",
   "nbconvert_exporter": "python",
   "pygments_lexer": "ipython3",
   "version": "3.9.19"
  }
 },
 "nbformat": 4,
 "nbformat_minor": 2
}
